{
  "metadata": {
    "kernelspec": {
      "name": "python",
      "display_name": "Python (Pyodide)",
      "language": "python"
    },
    "language_info": {
      "codemirror_mode": {
        "name": "python",
        "version": 3
      },
      "file_extension": ".py",
      "mimetype": "text/x-python",
      "name": "python",
      "nbconvert_exporter": "python",
      "pygments_lexer": "ipython3",
      "version": "3.8"
    },
    "colab": {
      "provenance": []
    }
  },
  "nbformat_minor": 4,
  "nbformat": 4,
  "cells": [
    {
      "cell_type": "markdown",
      "source": "# Dictionaries\n\n### One of the most critical compound data type in Python (similar to associative arrays in other languages)\n#### Holds data as a key-value pair; key can be any immutable data type and references a value that can be changed\n#### Example: {'Mati:'Rossi', 'Tim':'Cook'}  \n#### Example: {'Jan':110, 'Feb':90}",
      "metadata": {
        "id": "5sQKsZxZ5tmM"
      }
    },
    {
      "cell_type": "markdown",
      "source": "# Create dictionaries\n\n",
      "metadata": {
        "id": "93lclhXQ5tmP"
      }
    },
    {
      "cell_type": "code",
      "source": "# 1.\ndtSales={'Jan':110, 'Feb':90, 'Mar':50, 'Jun':300}\nprint(dtSales)\n\n# 2.for loop\ndtSales={}\nMonths=['Jan', 'Feb', 'Mar', 'Jun']\nSales=[110, 90, 50, 300]\n\nfor i in range(len(Months)):\n    dtSales[Months[i]]=Sales[i]\n\nprint(dtSales)\n\n# 3.dict() function\ndtSales=dict(zip(Months,Sales))\nprint(dtSales)\n\n",
      "metadata": {
        "colab": {
          "base_uri": "https://localhost:8080/"
        },
        "id": "f5QygL1d5tmQ",
        "outputId": "df0147a5-e57a-4f13-a357-b8baac0029bf"
      },
      "outputs": [
        {
          "output_type": "stream",
          "name": "stdout",
          "text": [
            "{'Jan': 110, 'Feb': 90, 'Mar': 50, 'Jun': 300}\n",
            "{'Jan': 110, 'Feb': 90, 'Mar': 50, 'Jun': 300}\n",
            "{'Jan': 110, 'Feb': 90, 'Mar': 50, 'Jun': 300}\n"
          ]
        }
      ],
      "execution_count": null
    },
    {
      "cell_type": "code",
      "source": "# To access values in a dictionary, we MUST pass key. Cannot be accessed using position. e.g.\ndtSales['Feb']\n\n# What if you do\ndtSales['feb']",
      "metadata": {
        "colab": {
          "base_uri": "https://localhost:8080/",
          "height": 217
        },
        "id": "pTa0jnP45tmR",
        "outputId": "e336dca2-472f-4d9d-c5c7-7edcfb4f99ee",
        "trusted": true
      },
      "outputs": [
        {
          "ename": "<class 'NameError'>",
          "evalue": "name 'dtSales' is not defined",
          "traceback": [
            "\u001b[0;31m---------------------------------------------------------------------------\u001b[0m",
            "\u001b[0;31mNameError\u001b[0m                                 Traceback (most recent call last)",
            "Cell \u001b[0;32mIn[2], line 2\u001b[0m\n\u001b[1;32m      1\u001b[0m \u001b[38;5;66;03m# To access values in a dictionary, we MUST pass key. Cannot be accessed using position. e.g.\u001b[39;00m\n\u001b[0;32m----> 2\u001b[0m \u001b[43mdtSales\u001b[49m[\u001b[38;5;124m'\u001b[39m\u001b[38;5;124mFeb\u001b[39m\u001b[38;5;124m'\u001b[39m]\n\u001b[1;32m      4\u001b[0m \u001b[38;5;66;03m# What if you do\u001b[39;00m\n\u001b[1;32m      5\u001b[0m dtSales[\u001b[38;5;124m'\u001b[39m\u001b[38;5;124mfeb\u001b[39m\u001b[38;5;124m'\u001b[39m]\n",
            "\u001b[0;31mNameError\u001b[0m: name 'dtSales' is not defined"
          ],
          "output_type": "error"
        }
      ],
      "execution_count": 2
    },
    {
      "cell_type": "markdown",
      "source": "# Simple exercise:\nWrite a statement that creates a dictionary containing the following key-value pairs:\n\n- 'a' : 1 'b' : 2 'c' : 3\n\n- ['a', 'b', 'c']\n- [1, 2, 3]",
      "metadata": {
        "id": "RZ0mxCNu5tmS"
      }
    },
    {
      "cell_type": "code",
      "source": "# Write a statement that creates a dictionary containing the following key-value pairs:\n\n# 'a' : 1 'b' : 2 'c' : 3\n# ['a', 'b', 'c']\n# [1, 2, 3]\n\ndtSales={'Jan':110, 'Feb':90, 'Mar':50, 'Jun':300}\ndict1 = {'a':1, 'b':2, 'c':3}\nkeys1 = dict1.keys()\nvalues1 = dict1.values()\n\nprint(dict1)\nprint(keys1)\nprint(values1)\n",
      "metadata": {
        "id": "u5t6GaYAg5Y4",
        "trusted": true
      },
      "outputs": [
        {
          "name": "stdout",
          "text": "{'a': 1, 'b': 2, 'c': 3}\ndict_keys(['a', 'b', 'c'])\ndict_values([1, 2, 3])\n",
          "output_type": "stream"
        }
      ],
      "execution_count": 5
    },
    {
      "cell_type": "markdown",
      "source": "# Dictionaries are mutable objects like lists\n- This means you CAN add/update elements by specifying them on the left side of an expression.\n- You can add new key-value pairs to a dictionary with an assignment statement in the following general format:\n\ndictionary_name[key] = value",
      "metadata": {
        "id": "eB2zuWc25tmS"
      }
    },
    {
      "cell_type": "code",
      "source": "dt={}\ndt[1]='Andrew'\ndt[2]='Tim'\nprint(dt)\ndt[1]='Alex'\ndt[2]='Sara'\nprint(dt)\n",
      "metadata": {
        "colab": {
          "base_uri": "https://localhost:8080/"
        },
        "id": "wA5uR-po5tmT",
        "outputId": "36eae268-a106-45bd-f012-ca3d400b3cc6"
      },
      "outputs": [
        {
          "output_type": "stream",
          "name": "stdout",
          "text": [
            "{1: 'Andrew', 2: 'Tim'}\n",
            "{1: 'Alex', 2: 'Sara'}\n"
          ]
        }
      ],
      "execution_count": null
    },
    {
      "cell_type": "code",
      "source": "# Mixed data types in a dictionary\n\nscores = {'Kayla' : [88, 92, 100],\n               'Luis' : [95, 74, 81],\n               'Sophie' : [72, 88, 91],\n               'Ethan' : [70, 75, 78] }\n\n",
      "metadata": {
        "id": "3A1f8KVt5tmS"
      },
      "outputs": [],
      "execution_count": null
    },
    {
      "cell_type": "markdown",
      "source": "#### You cannot have duplicate keys in a dictionary.\n- When you assign a value to an existing key, the new value replaces the existing value.",
      "metadata": {
        "id": "gHwRiC7H5tmT"
      }
    },
    {
      "cell_type": "code",
      "source": "scores = {'Luis' : [88, 92, 100],\n      'Luis' : [95, 74, 81],\n      'Luis' : [72, 88, 91],\n      'Luis' : [70, 75, 78] }\nprint(scores)",
      "metadata": {
        "colab": {
          "base_uri": "https://localhost:8080/"
        },
        "id": "a5kMZK5viPxg",
        "outputId": "30182020-e846-478d-dca1-bd412fcb7364"
      },
      "outputs": [
        {
          "output_type": "stream",
          "name": "stdout",
          "text": [
            "{'Luis': [70, 75, 78]}\n"
          ]
        }
      ],
      "execution_count": null
    },
    {
      "cell_type": "markdown",
      "source": "# Accessing elements in a dictionary\n#### Lists, tuples and strings are sequences; the individual elements occur in order; we can use indexing and slicing operations on these data types.  <font color='red'> The items in Dictionaries do not occur in order </font>.  Hence, you cannot use slicing or indexing operations on them.\n\n- keys() --> Returns all the keys in a dictionary.\n- values() --> Returns all the values in the dictionary.\n- items() --> Returns all the keys in a dictionary and their associated values.\n",
      "metadata": {
        "id": "SFrUfr5o5tmU"
      }
    },
    {
      "cell_type": "code",
      "source": "# Using for loop to iterate over a dictionary\n# dt= {'a': 1, 'b': 2, 'c': 3}\n\ndt= {'a': 1, 'b': 2, 'c': 3}\nfor key in dt:\n  print(key, dt[key])\n",
      "metadata": {
        "colab": {
          "base_uri": "https://localhost:8080/"
        },
        "id": "-aJ7h6GPfPUi",
        "outputId": "09c933e4-5bc9-4cd2-f3ee-096061f1bc65"
      },
      "outputs": [
        {
          "output_type": "stream",
          "name": "stdout",
          "text": [
            "a 1\n",
            "b 2\n",
            "c 3\n"
          ]
        }
      ],
      "execution_count": null
    },
    {
      "cell_type": "code",
      "source": "dt= {'a': 1, 'b': 2, 'c': 3}\n#items() returns all the keys and their associated values.\n\nprint(dt.items(),type(dt.items()))\n# dict_items([('a', 1), ('b', 2), ('c', 3)]) <class 'dict_items'>\n\n# Cannot use indexing on dict_items\n\n# 1.Convert 'dict_items' to a list\nprint( )\nprint('Converting dict_items to a list')\nitems_list=list(dt.items())\nprint(items_list)\nprint(items_list[0],items_list[1],items_list[2])\n\n",
      "metadata": {
        "colab": {
          "base_uri": "https://localhost:8080/"
        },
        "id": "w-6dNZi95tmW",
        "outputId": "bd374a48-6281-448f-d36e-66b2ee59999c"
      },
      "outputs": [
        {
          "output_type": "stream",
          "name": "stdout",
          "text": [
            "dict_items([('a', 1), ('b', 2), ('c', 3)]) <class 'dict_items'>\n",
            "\n",
            "Converting dict_items to a list\n",
            "[('a', 1), ('b', 2), ('c', 3)]\n",
            "('a', 1) ('b', 2) ('c', 3)\n"
          ]
        }
      ],
      "execution_count": null
    },
    {
      "cell_type": "code",
      "source": "# To access keys in a dictionary\ndt= {'a': 1, 'b': 2, 'c': 3}\n\n#keys() method returns all of a dictionary’s keys as a dictionary view\nprint(dt.keys(),type(dt.keys()))\n\n# 1.Convert 'dict_keys' to a list\nprint( )\nprint('Converting dict_keys to a list')\nprint(list(dt.keys()))\nprint(list(dt.keys())[0],list(dt.keys())[1],list(dt.keys())[2])\n\n",
      "metadata": {
        "colab": {
          "base_uri": "https://localhost:8080/"
        },
        "id": "TWJjnn3B5tmV",
        "outputId": "54b53889-0ace-4747-8356-3cde30715826"
      },
      "outputs": [
        {
          "output_type": "stream",
          "name": "stdout",
          "text": [
            "dict_keys(['a', 'b', 'c']) <class 'dict_keys'>\n",
            "\n",
            "Converting dict_keys to a list\n",
            "['a', 'b', 'c']\n",
            "a b c\n"
          ]
        }
      ],
      "execution_count": null
    },
    {
      "cell_type": "code",
      "source": "dt= {'a': 1, 'b': 2, 'c': 3}\n# To access values in a dictionary\nprint(dt.values(),type(dt.values()))\n\n# 1.Convert 'dict_values' to a list\nprint( )\nprint('Converting dict_values to a list')\nprint(list(dt.values()))\nprint(list(dt.values())[0],list(dt.values())[1],list(dt.values())[2])\n\n",
      "metadata": {
        "colab": {
          "base_uri": "https://localhost:8080/"
        },
        "id": "aCc420ZJ5tmV",
        "outputId": "b53ca2ff-d29b-43d8-a0c6-19fc5c20def3"
      },
      "outputs": [
        {
          "output_type": "stream",
          "name": "stdout",
          "text": [
            "dict_values([1, 2, 3]) <class 'dict_values'>\n",
            "\n",
            "Converting dict_values to a list\n",
            "[1, 2, 3]\n",
            "1 2 3\n"
          ]
        }
      ],
      "execution_count": null
    },
    {
      "cell_type": "code",
      "source": "#what does someVar access - key or value? - KEY\ndt= {'a': 1, 'b': 2, 'c': 3}\nfor someVar in dt:\n    print(someVar)",
      "metadata": {
        "colab": {
          "base_uri": "https://localhost:8080/"
        },
        "id": "vWu_RxLs5tmW",
        "outputId": "b90a5661-ea36-4aad-f38a-5dc7b08e14d0"
      },
      "outputs": [
        {
          "output_type": "stream",
          "name": "stdout",
          "text": [
            "a\n",
            "b\n",
            "c\n"
          ]
        }
      ],
      "execution_count": null
    },
    {
      "cell_type": "markdown",
      "source": "## ICE\nSuppose we have a dictionary 'dtSales' that stores sales data from January to May",
      "metadata": {
        "id": "_dQtkWFV-zxZ"
      }
    },
    {
      "cell_type": "code",
      "source": "# Operations, order in which key-value pairs are accessed.\ndtSales={'Jan':110, 'Feb':90, 'Mar':130, 'Apr':80, 'May':200}\n",
      "metadata": {
        "colab": {
          "base_uri": "https://localhost:8080/"
        },
        "id": "4luRWiQT5tmX",
        "outputId": "254b1615-39b2-43dc-a30e-4adaab067eaf"
      },
      "outputs": [
        {
          "output_type": "stream",
          "name": "stdout",
          "text": [
            "{'Jan': 110, 'Feb': 90, 'Mar': 130, 'Apr': 80, 'May': 200}\n"
          ]
        }
      ],
      "execution_count": null
    },
    {
      "cell_type": "code",
      "source": "# Find sales data for May from dictionary\n\n\ndtSales[4]\n",
      "metadata": {
        "id": "dyN9k629_QuU"
      },
      "outputs": [],
      "execution_count": null
    },
    {
      "cell_type": "code",
      "source": "# Add 10 to May's sales and modify April's sales to 100 and update the list\n\n\ndtSales[4].values() = dtSales[4].values() + 10\n\n\n",
      "metadata": {
        "colab": {
          "base_uri": "https://localhost:8080/"
        },
        "id": "Jp2N2crs_o3P",
        "outputId": "c9c3b085-2fa5-4c28-9470-014f730def17"
      },
      "outputs": [
        {
          "output_type": "stream",
          "name": "stdout",
          "text": [
            "{'Jan': 110, 'Feb': 90, 'Mar': 130, 'Apr': 100, 'May': 220}\n"
          ]
        }
      ],
      "execution_count": null
    },
    {
      "cell_type": "code",
      "source": "# Get all months and corresponding sales volume in the dictionary\n\n\nfor month in dtSales:\n    print month\n    \n\n\n",
      "metadata": {
        "colab": {
          "base_uri": "https://localhost:8080/"
        },
        "id": "otraluWlAZQ-",
        "outputId": "bd252fbc-9fa3-44b9-a0d7-8aab7d67235a"
      },
      "outputs": [
        {
          "output_type": "stream",
          "name": "stdout",
          "text": [
            "Sales_list: [('Jan', 110), ('Feb', 90), ('Mar', 130), ('Apr', 100), ('May', 220)]\n",
            "Jan 110\n",
            "Feb 90\n",
            "Mar 130\n",
            "Apr 100\n",
            "May 220\n"
          ]
        }
      ],
      "execution_count": null
    },
    {
      "cell_type": "markdown",
      "source": "## Merge two dictionaries\n### Creating a copy of the dictionary\n- dictionary_name.copy()",
      "metadata": {
        "id": "AuYLkKa7Cshq"
      }
    },
    {
      "cell_type": "code",
      "source": "# Merge two dictionaries\n\nd1={1:1}\nd2={2:2}\n\n# .copy()\nd3 = d1.copy()\nd3.update(d2)\n\n# |\nd4 = d1|d2\nprint(d3,d4)",
      "metadata": {
        "colab": {
          "base_uri": "https://localhost:8080/"
        },
        "id": "dl7Aw8gCGvHP",
        "outputId": "509fad32-559d-4b87-d10e-3e969499e7f3"
      },
      "outputs": [
        {
          "output_type": "stream",
          "name": "stdout",
          "text": [
            "{1: 1, 2: 2} {1: 1, 2: 2}\n"
          ]
        }
      ],
      "execution_count": null
    },
    {
      "cell_type": "markdown",
      "source": "# ICE\nConcatenate following dictionaries to create a new one. Sample Dictionaries:\n\n- d1={1:10, 2:20}\n- d2={3:30, 4:40}\n- d3={5:50, 6:60}\n- Expected Result : {1: 10, 2: 20, 3: 30, 4: 40, 5: 50, 6: 60}",
      "metadata": {
        "id": "gpV6qDo2H7fR"
      }
    },
    {
      "cell_type": "code",
      "source": "# Concatenate following dictionaries to create a new one. Sample Dictionaries:  d1={1:10, 2:20} d2={3:30, 4:40} d3={5:50, 6:60} Expected Result : {1: 10, 2: 20, 3: 30, 4: 40, 5: 50, 6: 60}\n\nd1={1:10, 2:20}\nd2={3:30, 4:40}\nd3={5:50, 6:60}\n\nnewD = d1 + d2 + d3\n",
      "metadata": {
        "colab": {
          "base_uri": "https://localhost:8080/"
        },
        "id": "V1adGRsnIDum",
        "outputId": "ec3b05cc-4db3-4cac-b840-28853157e17e"
      },
      "outputs": [
        {
          "output_type": "stream",
          "name": "stdout",
          "text": [
            "{1: 10, 2: 20, 3: 30, 4: 40}\n"
          ]
        }
      ],
      "execution_count": null
    },
    {
      "cell_type": "markdown",
      "source": "Write a function called checkSales that takes a dictionary and a key that user wants to search as its parameters and returns the value associated with a given key if it exists otherwise returns None if key is not found. Print the appropriate messagges based on the return values in the main function.",
      "metadata": {
        "id": "HFDhV1W15tmY"
      }
    },
    {
      "cell_type": "markdown",
      "source": "# Operation\n- in and not in keywords\n- len\n\n## removing elements from dictionary\n- pop --> Returns the value associated with a specified key and removes that key-value pair from the dictionary.\n- popitem --> Returns a randomly selected key-value pair as a tuple from the dictionary and removes that key-value pair from the dictionary.\n- deleting elements: General format is --> del dictionary_name[key]\n- clear --> General format is dictionary_name.clear()\n",
      "metadata": {
        "id": "ydzT2hBb5tmY"
      }
    },
    {
      "cell_type": "code",
      "source": "dtSales={'Jan':110, 'Feb':90, 'Mar':130, 'Apr':80}\n# in and not in operators .. handy to avoid KeyError Exception\nif 'Feb' in dtSales:\n    print(dtSales['Feb'])\n\nif 'Dec' not in dtSales:\n    print(\"Too early for december\")",
      "metadata": {
        "colab": {
          "base_uri": "https://localhost:8080/"
        },
        "id": "DWSX8Wpr5tmY",
        "outputId": "86a604ab-c631-424f-d823-81c8e8def486"
      },
      "outputs": [
        {
          "output_type": "stream",
          "name": "stdout",
          "text": [
            "90\n",
            "Too early for december\n"
          ]
        }
      ],
      "execution_count": null
    },
    {
      "cell_type": "code",
      "source": "dLen = len(dtSales)\nprint(dLen)",
      "metadata": {
        "colab": {
          "base_uri": "https://localhost:8080/"
        },
        "id": "21J2yNzK5tmY",
        "outputId": "0e1ea765-c0a0-4da8-bcd9-1b4050d4a142"
      },
      "outputs": [
        {
          "output_type": "stream",
          "name": "stdout",
          "text": [
            "4\n"
          ]
        }
      ],
      "execution_count": null
    },
    {
      "cell_type": "code",
      "source": "# pop removes the item and returns the value of the key referred to in the argument\ndtSales={'Jan':110, 'Feb':90, 'Mar':130, 'Apr':80}\nprint(dtSales)\nJan_sales=dtSales.pop('Jan')\nprint(dtSales,Jan_sales, sep='\\n')",
      "metadata": {
        "colab": {
          "base_uri": "https://localhost:8080/"
        },
        "id": "cC30bN665tmZ",
        "outputId": "74661c5e-a133-495d-cfe4-571640cf4bf0"
      },
      "outputs": [
        {
          "output_type": "stream",
          "name": "stdout",
          "text": [
            "{'Jan': 110, 'Feb': 90, 'Mar': 130, 'Apr': 80}\n",
            "{'Feb': 90, 'Mar': 130, 'Apr': 80}\n",
            "110\n"
          ]
        }
      ],
      "execution_count": null
    },
    {
      "cell_type": "code",
      "source": "#Returns last key-value pair as a tuple from the dictionary and removes that key-value pair from the dictionary.\ndtSales={'Jan':110, 'Feb':90, 'Mar':130, 'Apr':80}\nSales=dtSales.popitem()\nprint(dtSales,Sales, sep='\\n')",
      "metadata": {
        "colab": {
          "base_uri": "https://localhost:8080/"
        },
        "id": "gZu1uVja5tmZ",
        "outputId": "a9dbdad0-77f9-4aeb-ebe2-950a5c245eb4"
      },
      "outputs": [
        {
          "output_type": "stream",
          "name": "stdout",
          "text": [
            "{'Jan': 110, 'Feb': 90, 'Mar': 130}\n",
            "('Apr', 80)\n"
          ]
        }
      ],
      "execution_count": null
    },
    {
      "cell_type": "code",
      "source": "# Clearing all the elements of a dictionary\ndtSales={'Jan':110, 'Feb':90, 'Mar':130, 'Apr':80}\ndtSales.clear()\nprint(dtSales)\nSales=dtSales.popitem()\n",
      "metadata": {
        "id": "IPilNibq5tma",
        "colab": {
          "base_uri": "https://localhost:8080/",
          "height": 235
        },
        "outputId": "ae760c93-52df-463d-e8b9-3b9f0607a293"
      },
      "outputs": [
        {
          "output_type": "stream",
          "name": "stdout",
          "text": [
            "{}\n"
          ]
        },
        {
          "output_type": "error",
          "ename": "KeyError",
          "evalue": "ignored",
          "traceback": [
            "\u001b[0;31m---------------------------------------------------------------------------\u001b[0m",
            "\u001b[0;31mKeyError\u001b[0m                                  Traceback (most recent call last)",
            "\u001b[0;32m<ipython-input-44-044e5fc6f36d>\u001b[0m in \u001b[0;36m<cell line: 5>\u001b[0;34m()\u001b[0m\n\u001b[1;32m      3\u001b[0m \u001b[0mdtSales\u001b[0m\u001b[0;34m.\u001b[0m\u001b[0mclear\u001b[0m\u001b[0;34m(\u001b[0m\u001b[0;34m)\u001b[0m\u001b[0;34m\u001b[0m\u001b[0;34m\u001b[0m\u001b[0m\n\u001b[1;32m      4\u001b[0m \u001b[0mprint\u001b[0m\u001b[0;34m(\u001b[0m\u001b[0mdtSales\u001b[0m\u001b[0;34m)\u001b[0m\u001b[0;34m\u001b[0m\u001b[0;34m\u001b[0m\u001b[0m\n\u001b[0;32m----> 5\u001b[0;31m \u001b[0mSales\u001b[0m\u001b[0;34m=\u001b[0m\u001b[0mdtSales\u001b[0m\u001b[0;34m.\u001b[0m\u001b[0mpopitem\u001b[0m\u001b[0;34m(\u001b[0m\u001b[0;34m)\u001b[0m\u001b[0;34m\u001b[0m\u001b[0;34m\u001b[0m\u001b[0m\n\u001b[0m",
            "\u001b[0;31mKeyError\u001b[0m: 'popitem(): dictionary is empty'"
          ]
        }
      ],
      "execution_count": null
    },
    {
      "cell_type": "markdown",
      "source": "# ICE 1\nUse a foor  loop to count the frequency of list item and store the results in a dictionay\n- List1 = [1, 2, 2, 3, 4, 1, 4, 5, 5, 6, 7, 7]",
      "metadata": {
        "id": "qYARzL0BJyaJ"
      }
    },
    {
      "cell_type": "code",
      "source": "# Count the frequency of list item\n# List1 = [1, 2, 2, 3, 4, 1, 4, 5, 5, 6, 7, 7]\n\nList1 = [1, 2, 2, 3, 4, 1, 4, 5, 5, 6, 7, 7]\nfreq = {}\n            #TODO: write a for loop to iterate over the numbers in the list\n\n            #TODO: check if the number is already in the list as a key\n            #TODO: frequency increases by 1 if condition is True\n\n            #TODO: frequency is 1 if the condition is False\n\nprint(freq)\n",
      "metadata": {
        "colab": {
          "base_uri": "https://localhost:8080/"
        },
        "id": "JbNHuHcaJ4HQ",
        "outputId": "149ba85b-af16-48cd-e17b-22f88aab1070"
      },
      "outputs": [
        {
          "output_type": "stream",
          "name": "stdout",
          "text": [
            "{} 1\n",
            "{1: 1} 2\n",
            "{1: 1, 2: 1} 2\n",
            "{1: 1, 2: 2} 3\n",
            "{1: 1, 2: 2, 3: 1} 4\n",
            "{1: 1, 2: 2, 3: 1, 4: 1} 1\n",
            "{1: 2, 2: 2, 3: 1, 4: 1} 4\n",
            "{1: 2, 2: 2, 3: 1, 4: 2} 5\n",
            "{1: 2, 2: 2, 3: 1, 4: 2, 5: 1} 5\n",
            "{1: 2, 2: 2, 3: 1, 4: 2, 5: 2} 6\n",
            "{1: 2, 2: 2, 3: 1, 4: 2, 5: 2, 6: 1} 7\n",
            "{1: 2, 2: 2, 3: 1, 4: 2, 5: 2, 6: 1, 7: 1} 7\n",
            "{1: 2, 2: 2, 3: 1, 4: 2, 5: 2, 6: 1, 7: 2}\n"
          ]
        }
      ],
      "execution_count": null
    },
    {
      "cell_type": "markdown",
      "source": "# ICE 2\nConcatenate the following dictionaries to creata a new one. If a key repeats across the three dictionaries, you have to add the values corresponding to the key.\n- d1={1:10, 2:20}\n- d2={1:20, 3:30, 4:40}\n- d3={5:50,6:60,3:60}\n- Expected result: {1: 30, 2: 20, 3: 90, 4: 40, 5: 50, 6: 60}\n- HINT: You need to use list of dictionaries to loop over the three dictionaries using nested FOR loops",
      "metadata": {
        "id": "L964A3q7If0z"
      }
    },
    {
      "cell_type": "code",
      "source": "# If a key repeats across the three dictionaries, you have to add the values corresponding to the key.\n# d1={1:10, 2:20} d2={1:20, 3:30, 4:40} d3={5:50,6:60,3:60}\n# Expected result: {1: 30, 2: 20, 3: 90, 4: 40, 5: 50, 6: 60}\n\nd1={1:10, 2:20}\nd2={1:20, 3:30, 4:40}\nd3={5:50,6:60,3:60}\ndict_list = [d1, d2, d3]\nnew_dict = {}\n# HINT: You need to use list of dictionaries to loop over the three dictionaries using nested FOR loops\n\nd1={1:10, 2:20}\nd2={1:20, 3:30, 4:40}\nd3={5:50,6:60,3:60}\nnew_dict={}\nfor d in [d1,d2,d3]: #Create a list with all three dictionaries, then iterate over the three dictionaries\n    for key_value in list(d.items()): #Put all items in the dictionary into a list as tuples, and iterate over all the key_value pairs\n        if key_value[0] in new_dict: # key_value[0] is the key of a kay_value_pair, check if the key has already existed in the new dictionary.\n            new_dict[key_value[0]]=new_dict[key_value[0]]+key_value[1] # Update value if key exists\n        else:\n            new_dict[key_value[0]]=key_value[1]  # Create a new key_value_pair in new disctionary, if key dosen't exist\nprint(new_dict)\n\n\n",
      "metadata": {
        "colab": {
          "base_uri": "https://localhost:8080/"
        },
        "id": "9QamhFWVJCHR",
        "outputId": "86f63b77-bd33-49d4-b9b9-2f11ce77f46e"
      },
      "outputs": [
        {
          "output_type": "stream",
          "name": "stdout",
          "text": [
            "{1: 30, 2: 20, 3: 90, 4: 40, 5: 50, 6: 60}\n"
          ]
        }
      ],
      "execution_count": 4
    },
    {
      "cell_type": "markdown",
      "source": "## Extra ICE\n- Use a for loop to iterate over both keys and values in a dictionary",
      "metadata": {
        "id": "LYhajF24N-Bv"
      }
    },
    {
      "cell_type": "code",
      "source": "dt= {'a': 1, 'b': 2, 'c': 3}\n#items() returns all the keys and their associated values.\n\nprint(dt.items(),type(dt.items()))\n# dict_items([('a', 1), ('b', 2), ('c', 3)]) <class 'dict_items'>\n\n# Cannot use indexing on dict_items\n\n# 1.Convert 'dict_items' to a list\nprint( )\nprint('Converting dict_items to a list')\nitems_list=list(dt.items())\nprint(items_list)\nprint(items_list[0],items_list[1],items_list[2])\n\n# Use a for loop to iterate over both keys and values in a dictionary\nprint( )\nprint('Using for loop')\nfor key_value_pair in dt.items():\n    print (key_value_pair,'key:',key_value_pair[0],'value:',key_value_pair[0])",
      "metadata": {
        "id": "N2E0rw5tODuo"
      },
      "outputs": [],
      "execution_count": null
    }
  ]
}