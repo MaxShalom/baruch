{
  "metadata": {
    "kernelspec": {
      "name": "python",
      "display_name": "Python (Pyodide)",
      "language": "python"
    },
    "language_info": {
      "name": "python"
    },
    "colab": {
      "provenance": []
    }
  },
  "nbformat_minor": 0,
  "nbformat": 4,
  "cells": [
    {
      "cell_type": "markdown",
      "source": [
        "# Pandas\n",
        "Pandas is a popular open-source data manipulation and analysis library for Python. It provides easy-to-use functions and methods for working with structured data, making it a powerful tool for data cleaning, exploration, and analysis.\n",
        "\n"
      ],
      "metadata": {
        "id": "X-g6Uu_RiMGT"
      }
    },
    {
      "cell_type": "code",
      "source": [
        "!pip install pandas\n",
        "!pip install numpy\n",
        "!pip install seaborn\n",
        "!pip install matplotlib"
      ],
      "metadata": {
        "colab": {
          "base_uri": "https://localhost:8080/"
        },
        "id": "15RrJn4djnNX",
        "outputId": "6eaaf60d-7b87-4c94-a350-b350a0917b20",
        "trusted": true
      },
      "outputs": [
        {
          "output_type": "stream",
          "name": "stdout",
          "text": [
            "Requirement already satisfied: pandas in /usr/local/lib/python3.10/dist-packages (2.0.3)\n",
            "Requirement already satisfied: python-dateutil>=2.8.2 in /usr/local/lib/python3.10/dist-packages (from pandas) (2.8.2)\n",
            "Requirement already satisfied: pytz>=2020.1 in /usr/local/lib/python3.10/dist-packages (from pandas) (2023.4)\n",
            "Requirement already satisfied: tzdata>=2022.1 in /usr/local/lib/python3.10/dist-packages (from pandas) (2024.1)\n",
            "Requirement already satisfied: numpy>=1.21.0 in /usr/local/lib/python3.10/dist-packages (from pandas) (1.25.2)\n",
            "Requirement already satisfied: six>=1.5 in /usr/local/lib/python3.10/dist-packages (from python-dateutil>=2.8.2->pandas) (1.16.0)\n",
            "Requirement already satisfied: numpy in /usr/local/lib/python3.10/dist-packages (1.25.2)\n",
            "Requirement already satisfied: seaborn in /usr/local/lib/python3.10/dist-packages (0.13.1)\n",
            "Requirement already satisfied: numpy!=1.24.0,>=1.20 in /usr/local/lib/python3.10/dist-packages (from seaborn) (1.25.2)\n",
            "Requirement already satisfied: pandas>=1.2 in /usr/local/lib/python3.10/dist-packages (from seaborn) (2.0.3)\n",
            "Requirement already satisfied: matplotlib!=3.6.1,>=3.4 in /usr/local/lib/python3.10/dist-packages (from seaborn) (3.7.1)\n",
            "Requirement already satisfied: contourpy>=1.0.1 in /usr/local/lib/python3.10/dist-packages (from matplotlib!=3.6.1,>=3.4->seaborn) (1.2.1)\n",
            "Requirement already satisfied: cycler>=0.10 in /usr/local/lib/python3.10/dist-packages (from matplotlib!=3.6.1,>=3.4->seaborn) (0.12.1)\n",
            "Requirement already satisfied: fonttools>=4.22.0 in /usr/local/lib/python3.10/dist-packages (from matplotlib!=3.6.1,>=3.4->seaborn) (4.51.0)\n",
            "Requirement already satisfied: kiwisolver>=1.0.1 in /usr/local/lib/python3.10/dist-packages (from matplotlib!=3.6.1,>=3.4->seaborn) (1.4.5)\n",
            "Requirement already satisfied: packaging>=20.0 in /usr/local/lib/python3.10/dist-packages (from matplotlib!=3.6.1,>=3.4->seaborn) (24.0)\n",
            "Requirement already satisfied: pillow>=6.2.0 in /usr/local/lib/python3.10/dist-packages (from matplotlib!=3.6.1,>=3.4->seaborn) (9.4.0)\n",
            "Requirement already satisfied: pyparsing>=2.3.1 in /usr/local/lib/python3.10/dist-packages (from matplotlib!=3.6.1,>=3.4->seaborn) (3.1.2)\n",
            "Requirement already satisfied: python-dateutil>=2.7 in /usr/local/lib/python3.10/dist-packages (from matplotlib!=3.6.1,>=3.4->seaborn) (2.8.2)\n",
            "Requirement already satisfied: pytz>=2020.1 in /usr/local/lib/python3.10/dist-packages (from pandas>=1.2->seaborn) (2023.4)\n",
            "Requirement already satisfied: tzdata>=2022.1 in /usr/local/lib/python3.10/dist-packages (from pandas>=1.2->seaborn) (2024.1)\n",
            "Requirement already satisfied: six>=1.5 in /usr/local/lib/python3.10/dist-packages (from python-dateutil>=2.7->matplotlib!=3.6.1,>=3.4->seaborn) (1.16.0)\n",
            "Requirement already satisfied: matplotlib in /usr/local/lib/python3.10/dist-packages (3.7.1)\n",
            "Requirement already satisfied: contourpy>=1.0.1 in /usr/local/lib/python3.10/dist-packages (from matplotlib) (1.2.1)\n",
            "Requirement already satisfied: cycler>=0.10 in /usr/local/lib/python3.10/dist-packages (from matplotlib) (0.12.1)\n",
            "Requirement already satisfied: fonttools>=4.22.0 in /usr/local/lib/python3.10/dist-packages (from matplotlib) (4.51.0)\n",
            "Requirement already satisfied: kiwisolver>=1.0.1 in /usr/local/lib/python3.10/dist-packages (from matplotlib) (1.4.5)\n",
            "Requirement already satisfied: numpy>=1.20 in /usr/local/lib/python3.10/dist-packages (from matplotlib) (1.25.2)\n",
            "Requirement already satisfied: packaging>=20.0 in /usr/local/lib/python3.10/dist-packages (from matplotlib) (24.0)\n",
            "Requirement already satisfied: pillow>=6.2.0 in /usr/local/lib/python3.10/dist-packages (from matplotlib) (9.4.0)\n",
            "Requirement already satisfied: pyparsing>=2.3.1 in /usr/local/lib/python3.10/dist-packages (from matplotlib) (3.1.2)\n",
            "Requirement already satisfied: python-dateutil>=2.7 in /usr/local/lib/python3.10/dist-packages (from matplotlib) (2.8.2)\n",
            "Requirement already satisfied: six>=1.5 in /usr/local/lib/python3.10/dist-packages (from python-dateutil>=2.7->matplotlib) (1.16.0)\n"
          ]
        }
      ],
      "execution_count": 1
    },
    {
      "cell_type": "code",
      "source": [
        "\n",
        "# Import necessary libraries\n",
        "import pandas as pd\n",
        "import numpy as np\n",
        "import matplotlib.pyplot as plt\n",
        "import seaborn as sns\n"
      ],
      "metadata": {
        "id": "Iy50Xa5Kgg3u",
        "trusted": true
      },
      "outputs": [],
      "execution_count": 2
    },
    {
      "cell_type": "code",
      "source": [
        "# Load your data into a Pandas DataFrame\n",
        "df = pd.read_csv('CustomerSegmentation.csv')\n",
        "print(type(df))\n",
        "\n",
        "# columns and rows refer to the organization of data\n",
        "# Columns are the vertical divisions that represent different attributes or variables,\n",
        "# Rows are the horizontal divisions that represent individual records or entries in the dataset."
      ],
      "metadata": {
        "id": "6YT0Ww4iiWrB",
        "colab": {
          "base_uri": "https://localhost:8080/"
        },
        "outputId": "83b9e54d-59c2-4791-da88-4a6b32a1b261",
        "trusted": true
      },
      "outputs": [
        {
          "output_type": "stream",
          "name": "stdout",
          "text": [
            "<class 'pandas.core.frame.DataFrame'>\n"
          ]
        }
      ],
      "execution_count": 3
    },
    {
      "cell_type": "markdown",
      "source": [
        "# Data description\n",
        "Viewing and understanding data using the methods and attributes below\n",
        "- .head()\n",
        "- .shape\n",
        "- .info()\n",
        "- .describe()\n",
        "- .columns\n",
        "- .isnull()"
      ],
      "metadata": {
        "id": "-aJZJv2YFnYb"
      }
    },
    {
      "cell_type": "code",
      "source": [
        "#Display first 5 rows using head()\n",
        "print(df.head())\n",
        "print()\n",
        "#Display first 10 rows\n",
        "print(df.head(10))\n",
        "# https://hub.packtpub.com/introduction-titanic-datasets/\n",
        "\n",
        "# pclass: Passenger class (1 = 1st; 2 = 2nd; 3 = 3rd)\n",
        "# Survived: Whether a passenger survived or not (0 = No; 1 = Yes)\n",
        "# sex: male/female\n",
        "# age: Age\n",
        "# ticket: Ticket number\n",
        "# fare: Passenger fare (British Pound)\n",
        "# cabin: Location of the cabin\n",
        "# embarked: Port of embarkation (C = Cherbourg; Q = Queenstown; S = Southampton)"
      ],
      "metadata": {
        "id": "JIJnCVVkBKi_",
        "colab": {
          "base_uri": "https://localhost:8080/"
        },
        "outputId": "b1755a54-bc95-4932-a4d6-2c9ae90620fa",
        "trusted": true
      },
      "outputs": [
        {
          "output_type": "stream",
          "name": "stdout",
          "text": [
            "       ID  Gender Ever_Married  Age Graduated  Profession  Work_Experience  \\\n",
            "0  458989  Female          Yes   36       Yes    Engineer              0.0   \n",
            "1  458994    Male          Yes   37       Yes  Healthcare              8.0   \n",
            "2  458996  Female          Yes   69        No         NaN              0.0   \n",
            "3  459000    Male          Yes   59        No   Executive             11.0   \n",
            "4  459001  Female           No   19        No   Marketing              NaN   \n",
            "\n",
            "  Spending_Score  Family_Size Category  \n",
            "0            Low          1.0    Cat_6  \n",
            "1        Average          4.0    Cat_6  \n",
            "2            Low          1.0    Cat_6  \n",
            "3           High          2.0    Cat_6  \n",
            "4            Low          4.0    Cat_6  \n",
            "\n",
            "       ID  Gender Ever_Married  Age Graduated  Profession  Work_Experience  \\\n",
            "0  458989  Female          Yes   36       Yes    Engineer              0.0   \n",
            "1  458994    Male          Yes   37       Yes  Healthcare              8.0   \n",
            "2  458996  Female          Yes   69        No         NaN              0.0   \n",
            "3  459000    Male          Yes   59        No   Executive             11.0   \n",
            "4  459001  Female           No   19        No   Marketing              NaN   \n",
            "5  459003    Male          Yes   47       Yes      Doctor              0.0   \n",
            "6  459005    Male          Yes   61       Yes      Doctor              5.0   \n",
            "7  459008  Female          Yes   47       Yes      Artist              1.0   \n",
            "8  459013    Male          Yes   50       Yes      Artist              2.0   \n",
            "9  459014    Male           No   19        No  Healthcare              0.0   \n",
            "\n",
            "  Spending_Score  Family_Size Category  \n",
            "0            Low          1.0    Cat_6  \n",
            "1        Average          4.0    Cat_6  \n",
            "2            Low          1.0    Cat_6  \n",
            "3           High          2.0    Cat_6  \n",
            "4            Low          4.0    Cat_6  \n",
            "5           High          5.0    Cat_4  \n",
            "6            Low          3.0    Cat_6  \n",
            "7        Average          3.0    Cat_6  \n",
            "8        Average          4.0    Cat_6  \n",
            "9            Low          4.0    Cat_6  \n"
          ]
        }
      ],
      "execution_count": 4
    },
    {
      "cell_type": "code",
      "source": [
        "# shape attribute returns the number of rows and columns in a DataFrame.\n",
        "\n",
        "rows_columns=df.shape\n",
        "print(rows_columns)\n",
        "print('rows',rows_columns[0])\n",
        "print('columns',rows_columns[1])"
      ],
      "metadata": {
        "colab": {
          "base_uri": "https://localhost:8080/"
        },
        "id": "N3BPO6UkS5Vx",
        "outputId": "9a2be0ba-0f23-4141-bdbc-0190393def7d",
        "trusted": true
      },
      "outputs": [
        {
          "output_type": "stream",
          "name": "stdout",
          "text": [
            "(2627, 10)\n",
            "rows 2627\n",
            "columns 10\n"
          ]
        }
      ],
      "execution_count": 5
    },
    {
      "cell_type": "code",
      "source": [
        "# info() method is a quick way to look at the data types,\n",
        "# missing values, and data size of a DataFrame.\n",
        "\n",
        "print(df.info())\n",
        "\n",
        "# object:str or mixed"
      ],
      "metadata": {
        "colab": {
          "base_uri": "https://localhost:8080/"
        },
        "id": "CaSX6B62ErjG",
        "outputId": "bcd7c14b-fe5e-47f9-eb8a-c00e3bd57461",
        "trusted": true
      },
      "outputs": [
        {
          "output_type": "stream",
          "name": "stdout",
          "text": [
            "<class 'pandas.core.frame.DataFrame'>\n",
            "RangeIndex: 2627 entries, 0 to 2626\n",
            "Data columns (total 10 columns):\n",
            " #   Column           Non-Null Count  Dtype  \n",
            "---  ------           --------------  -----  \n",
            " 0   ID               2627 non-null   int64  \n",
            " 1   Gender           2627 non-null   object \n",
            " 2   Ever_Married     2577 non-null   object \n",
            " 3   Age              2627 non-null   int64  \n",
            " 4   Graduated        2603 non-null   object \n",
            " 5   Profession       2589 non-null   object \n",
            " 6   Work_Experience  2358 non-null   float64\n",
            " 7   Spending_Score   2627 non-null   object \n",
            " 8   Family_Size      2514 non-null   float64\n",
            " 9   Category         2595 non-null   object \n",
            "dtypes: float64(2), int64(2), object(6)\n",
            "memory usage: 205.4+ KB\n",
            "None\n"
          ]
        }
      ],
      "execution_count": 6
    },
    {
      "cell_type": "code",
      "source": [
        "# describe() method prints the summary statistics of all numeric columns,\n",
        "# such as count, mean, standard deviation, range, and quartiles of numeric columns.\n",
        "\n",
        "print(df.describe())"
      ],
      "metadata": {
        "colab": {
          "base_uri": "https://localhost:8080/"
        },
        "id": "JCRtOqFCFfak",
        "outputId": "27001afb-f42f-4209-ecd1-55093c7a8a9a",
        "trusted": true
      },
      "outputs": [
        {
          "output_type": "stream",
          "name": "stdout",
          "text": [
            "                  ID          Age  Work_Experience  Family_Size\n",
            "count    2627.000000  2627.000000      2358.000000  2514.000000\n",
            "mean   463433.918919    43.649791         2.552587     2.825378\n",
            "std      2618.245698    16.967015         3.341094     1.551906\n",
            "min    458989.000000    18.000000         0.000000     1.000000\n",
            "25%    461162.500000    30.000000         0.000000     2.000000\n",
            "50%    463379.000000    41.000000         1.000000     2.000000\n",
            "75%    465696.000000    53.000000         4.000000     4.000000\n",
            "max    467968.000000    89.000000        14.000000     9.000000\n"
          ]
        }
      ],
      "execution_count": 7
    },
    {
      "cell_type": "code",
      "source": [
        "# columns attribute returns all the column names\n",
        "list_columns=list(df.columns)\n",
        "print(list_columns)"
      ],
      "metadata": {
        "colab": {
          "base_uri": "https://localhost:8080/"
        },
        "id": "mcPpL5d_Szow",
        "outputId": "2fcbb4c6-6eab-4837-9a2e-9417b9f3304f",
        "trusted": true
      },
      "outputs": [
        {
          "output_type": "stream",
          "name": "stdout",
          "text": [
            "['ID', 'Gender', 'Ever_Married', 'Age', 'Graduated', 'Profession', 'Work_Experience', 'Spending_Score', 'Family_Size', 'Category']\n"
          ]
        }
      ],
      "execution_count": 8
    },
    {
      "cell_type": "code",
      "source": [
        "#check whether each element in a DataFrame is missing\n",
        "print(df.isnull())"
      ],
      "metadata": {
        "colab": {
          "base_uri": "https://localhost:8080/"
        },
        "id": "Q2AFiC_jDu7c",
        "outputId": "e2de91d2-82ea-418a-eb56-e8e2aa95e986",
        "trusted": true
      },
      "outputs": [
        {
          "output_type": "stream",
          "name": "stdout",
          "text": [
            "         ID  Gender  Ever_Married    Age  Graduated  Profession  \\\n",
            "0     False   False         False  False      False       False   \n",
            "1     False   False         False  False      False       False   \n",
            "2     False   False         False  False      False        True   \n",
            "3     False   False         False  False      False       False   \n",
            "4     False   False         False  False      False       False   \n",
            "...     ...     ...           ...    ...        ...         ...   \n",
            "2622  False   False         False  False      False       False   \n",
            "2623  False   False         False  False      False       False   \n",
            "2624  False   False         False  False      False       False   \n",
            "2625  False   False         False  False      False       False   \n",
            "2626  False   False         False  False      False       False   \n",
            "\n",
            "      Work_Experience  Spending_Score  Family_Size  Category  \n",
            "0               False           False        False     False  \n",
            "1               False           False        False     False  \n",
            "2               False           False        False     False  \n",
            "3               False           False        False     False  \n",
            "4                True           False        False     False  \n",
            "...               ...             ...          ...       ...  \n",
            "2622            False           False        False     False  \n",
            "2623            False           False        False     False  \n",
            "2624             True           False        False     False  \n",
            "2625            False           False        False     False  \n",
            "2626            False           False        False     False  \n",
            "\n",
            "[2627 rows x 10 columns]\n"
          ]
        }
      ],
      "execution_count": 9
    },
    {
      "cell_type": "code",
      "source": [
        "# isnull().sum() counts the number of missing values in each column.\n",
        "print(df.isnull().sum())\n"
      ],
      "metadata": {
        "colab": {
          "base_uri": "https://localhost:8080/"
        },
        "id": "aqYxb8q7EEbz",
        "outputId": "d1aad6ef-8379-46a7-8338-ebfe95b0b3f9",
        "trusted": true
      },
      "outputs": [
        {
          "output_type": "stream",
          "name": "stdout",
          "text": [
            "ID                   0\n",
            "Gender               0\n",
            "Ever_Married        50\n",
            "Age                  0\n",
            "Graduated           24\n",
            "Profession          38\n",
            "Work_Experience    269\n",
            "Spending_Score       0\n",
            "Family_Size        113\n",
            "Category            32\n",
            "dtype: int64\n"
          ]
        }
      ],
      "execution_count": 10
    },
    {
      "cell_type": "markdown",
      "source": [
        "## Data Cleaning  \n",
        "Dealing with missing values is crucial to ensure the accuracy of the analysis.\n",
        "\n",
        "1. Removing empty values from the dataframe."
      ],
      "metadata": {
        "id": "Oo3mao_5CpWD"
      }
    },
    {
      "cell_type": "code",
      "source": [
        "df.dropna(subset=['Profession'],inplace=True)\n",
        "print(df.info())\n"
      ],
      "metadata": {
        "colab": {
          "base_uri": "https://localhost:8080/"
        },
        "id": "LF9dM-gpB8xs",
        "outputId": "fd9a44a6-46ad-4922-d88b-8ce79b6cced1",
        "trusted": true
      },
      "outputs": [
        {
          "output_type": "stream",
          "name": "stdout",
          "text": [
            "<class 'pandas.core.frame.DataFrame'>\n",
            "Index: 2589 entries, 0 to 2626\n",
            "Data columns (total 11 columns):\n",
            " #   Column                    Non-Null Count  Dtype   \n",
            "---  ------                    --------------  -----   \n",
            " 0   ID                        2589 non-null   int64   \n",
            " 1   Ever_Married              2541 non-null   object  \n",
            " 2   Age                       2589 non-null   int64   \n",
            " 3   Graduated                 2566 non-null   object  \n",
            " 4   Profession                2589 non-null   object  \n",
            " 5   Work_Experience           2327 non-null   float64 \n",
            " 6   Spending_Score            2589 non-null   object  \n",
            " 7   Family_Size               2478 non-null   float64 \n",
            " 8   Age_interval              2482 non-null   category\n",
            " 9   Family_Size_interval      2478 non-null   category\n",
            " 10  Work_Experience_interval  1495 non-null   category\n",
            "dtypes: category(3), float64(2), int64(2), object(4)\n",
            "memory usage: 190.1+ KB\n",
            "None\n"
          ]
        }
      ],
      "execution_count": 106
    },
    {
      "cell_type": "markdown",
      "source": [
        "2. Replacing missing values"
      ],
      "metadata": {
        "id": "a3WQQN0WD-my"
      }
    },
    {
      "cell_type": "code",
      "source": [
        "# Get the mean of the column 'Age'\n",
        "mean_value = df['Age'].mean()\n",
        "\n",
        "# Fill missing values using .fillna()\n",
        "# Replace the null value in the Age column with mean_value and the null value in Cabin with the string 'NA'\n",
        "df = df.fillna({'Age': mean_value})\n",
        "df = df.fillna({'Cabin': 'NA'})\n",
        "print(df.reset_index().info())"
      ],
      "metadata": {
        "colab": {
          "base_uri": "https://localhost:8080/"
        },
        "id": "KQqIeZA7Do3-",
        "outputId": "0458900d-ab85-4d94-fb28-00f27ae63457",
        "trusted": true
      },
      "outputs": [
        {
          "output_type": "stream",
          "name": "stdout",
          "text": [
            "<class 'pandas.core.frame.DataFrame'>\n",
            "RangeIndex: 2627 entries, 0 to 2626\n",
            "Data columns (total 11 columns):\n",
            " #   Column           Non-Null Count  Dtype  \n",
            "---  ------           --------------  -----  \n",
            " 0   index            2627 non-null   int64  \n",
            " 1   ID               2627 non-null   int64  \n",
            " 2   Gender           2627 non-null   object \n",
            " 3   Ever_Married     2577 non-null   object \n",
            " 4   Age              2627 non-null   int64  \n",
            " 5   Graduated        2603 non-null   object \n",
            " 6   Profession       2589 non-null   object \n",
            " 7   Work_Experience  2358 non-null   float64\n",
            " 8   Spending_Score   2627 non-null   object \n",
            " 9   Family_Size      2514 non-null   float64\n",
            " 10  Category         2595 non-null   object \n",
            "dtypes: float64(2), int64(3), object(6)\n",
            "memory usage: 225.9+ KB\n",
            "None\n"
          ]
        }
      ],
      "execution_count": 12
    },
    {
      "cell_type": "markdown",
      "source": [
        "# Data Manipulation"
      ],
      "metadata": {
        "id": "uhGxavlsMjg_"
      }
    },
    {
      "cell_type": "code",
      "source": [
        "\n",
        "# select a column\n",
        "df1=df[['Graduated']]\n",
        "print('df1',type(df1))\n",
        "print(df1.head())\n",
        "print()\n",
        "\n",
        "# select multiple columns\n",
        "df2=df[['Graduated', 'Profession']]\n",
        "print('df2',type(df2))\n",
        "print(df2.head())\n",
        "print()\n",
        "\n",
        "# select all columns except one\n",
        "df=df.drop(['Category'], axis=1)# axis=1 refers to the columns of a data frame or a Series.\n",
        "df=df.drop(['Gender'], axis=1)\n",
        "print(df.head())\n"
      ],
      "metadata": {
        "id": "3eybmoXmUb6K",
        "colab": {
          "base_uri": "https://localhost:8080/"
        },
        "outputId": "f8198f44-1024-4870-b024-8b9707a5f61f",
        "trusted": true
      },
      "outputs": [
        {
          "output_type": "stream",
          "name": "stdout",
          "text": [
            "df1 <class 'pandas.core.frame.DataFrame'>\n",
            "  Graduated\n",
            "0       Yes\n",
            "1       Yes\n",
            "2        No\n",
            "3        No\n",
            "4        No\n",
            "\n",
            "df2 <class 'pandas.core.frame.DataFrame'>\n",
            "  Graduated  Profession\n",
            "0       Yes    Engineer\n",
            "1       Yes  Healthcare\n",
            "2        No         NaN\n",
            "3        No   Executive\n",
            "4        No   Marketing\n",
            "\n",
            "       ID Ever_Married  Age Graduated  Profession  Work_Experience  \\\n",
            "0  458989          Yes   36       Yes    Engineer              0.0   \n",
            "1  458994          Yes   37       Yes  Healthcare              8.0   \n",
            "2  458996          Yes   69        No         NaN              0.0   \n",
            "3  459000          Yes   59        No   Executive             11.0   \n",
            "4  459001           No   19        No   Marketing              NaN   \n",
            "\n",
            "  Spending_Score  Family_Size  \n",
            "0            Low          1.0  \n",
            "1        Average          4.0  \n",
            "2            Low          1.0  \n",
            "3           High          2.0  \n",
            "4            Low          4.0  \n"
          ]
        }
      ],
      "execution_count": 14
    },
    {
      "cell_type": "markdown",
      "source": [
        "## Selecting rows"
      ],
      "metadata": {
        "id": "x7i97aBVC-cf"
      }
    },
    {
      "cell_type": "code",
      "source": [
        "# Using iloc[start:end] to select rows\n",
        "df4=df.iloc[0:5]\n",
        "print(df4)\n",
        "\n",
        "df5=df.iloc[10:16]\n",
        "print(df5)"
      ],
      "metadata": {
        "id": "v0-OTBFzWTHN",
        "colab": {
          "base_uri": "https://localhost:8080/"
        },
        "outputId": "18cdc885-8e2f-498e-b14f-9fefba10fd0a",
        "trusted": true
      },
      "outputs": [
        {
          "output_type": "stream",
          "name": "stdout",
          "text": [
            "       ID Ever_Married  Age Graduated  Profession  Work_Experience  \\\n",
            "0  458989          Yes   36       Yes    Engineer              0.0   \n",
            "1  458994          Yes   37       Yes  Healthcare              8.0   \n",
            "2  458996          Yes   69        No         NaN              0.0   \n",
            "3  459000          Yes   59        No   Executive             11.0   \n",
            "4  459001           No   19        No   Marketing              NaN   \n",
            "\n",
            "  Spending_Score  Family_Size  \n",
            "0            Low          1.0  \n",
            "1        Average          4.0  \n",
            "2            Low          1.0  \n",
            "3           High          2.0  \n",
            "4            Low          4.0  \n",
            "        ID Ever_Married  Age Graduated  Profession  Work_Experience  \\\n",
            "10  459015           No   22        No  Healthcare              0.0   \n",
            "11  459016           No   22        No  Healthcare              0.0   \n",
            "12  459024          Yes   50       Yes      Artist              1.0   \n",
            "13  459026           No   27        No  Healthcare              8.0   \n",
            "14  459032           No   18        No      Doctor              0.0   \n",
            "15  459033          Yes   61       Yes      Artist              0.0   \n",
            "\n",
            "   Spending_Score  Family_Size  \n",
            "10            Low          3.0  \n",
            "11            Low          6.0  \n",
            "12        Average          5.0  \n",
            "13            Low          3.0  \n",
            "14            Low          3.0  \n",
            "15            Low          1.0  \n"
          ]
        }
      ],
      "execution_count": 15
    },
    {
      "cell_type": "code",
      "source": [
        "# Get a subset with rows 1, 3, and 7.\n",
        "df7=df.iloc[[1,3,7]]\n",
        "print(df7)"
      ],
      "metadata": {
        "id": "vT2JTy3DY8NP",
        "colab": {
          "base_uri": "https://localhost:8080/"
        },
        "outputId": "a2c103fc-f8a0-42c1-8c66-1703d65da252",
        "trusted": true
      },
      "outputs": [
        {
          "output_type": "stream",
          "name": "stdout",
          "text": [
            "       ID Ever_Married  Age Graduated  Profession  Work_Experience  \\\n",
            "1  458994          Yes   37       Yes  Healthcare              8.0   \n",
            "3  459000          Yes   59        No   Executive             11.0   \n",
            "7  459008          Yes   47       Yes      Artist              1.0   \n",
            "\n",
            "  Spending_Score  Family_Size  \n",
            "1        Average          4.0  \n",
            "3           High          2.0  \n",
            "7        Average          3.0  \n"
          ]
        }
      ],
      "execution_count": 16
    },
    {
      "cell_type": "code",
      "source": [
        "# Conditional slicing\n",
        "\n",
        "# Select data from dataset where the \"age\"  is less than 20\n",
        "df8=df[(df['Age'] < 20)].reset_index(drop=True)#Change the Conditional expression in the parentheses\n",
        "print(df8)"
      ],
      "metadata": {
        "colab": {
          "base_uri": "https://localhost:8080/"
        },
        "id": "DC5Us0aADRFt",
        "outputId": "6b1b0bd0-0a59-4cb9-c441-47a3c042c52d",
        "trusted": true
      },
      "outputs": [
        {
          "output_type": "stream",
          "name": "stdout",
          "text": [
            "        ID Ever_Married  Age Graduated  Profession  Work_Experience  \\\n",
            "0   459001           No   19        No   Marketing              NaN   \n",
            "1   459014           No   19        No  Healthcare              0.0   \n",
            "2   459032           No   18        No      Doctor              0.0   \n",
            "3   459118           No   19        No  Healthcare              NaN   \n",
            "4   459120           No   19        No  Healthcare              5.0   \n",
            "..     ...          ...  ...       ...         ...              ...   \n",
            "87  467569           No   19        No  Healthcare              NaN   \n",
            "88  467570           No   18        No  Healthcare             14.0   \n",
            "89  467740           No   19        No  Healthcare              0.0   \n",
            "90  467915           No   18        No      Doctor              1.0   \n",
            "91  467948           No   19        No  Healthcare              0.0   \n",
            "\n",
            "   Spending_Score  Family_Size  \n",
            "0             Low          4.0  \n",
            "1             Low          4.0  \n",
            "2             Low          3.0  \n",
            "3             Low          8.0  \n",
            "4             Low          5.0  \n",
            "..            ...          ...  \n",
            "87            Low          4.0  \n",
            "88            Low          NaN  \n",
            "89            Low          3.0  \n",
            "90            Low          4.0  \n",
            "91            Low          3.0  \n",
            "\n",
            "[92 rows x 8 columns]\n"
          ]
        }
      ],
      "execution_count": 29
    },
    {
      "cell_type": "code",
      "source": [
        "# Conditional slicing\n",
        "\n",
        "# Select data from dataset where the \"age\"  is less than 20 and the \"Survived\" is equal to 1\n",
        "\n",
        "df9=df[(df['Age'] < 20) & (df['Ever_Married'] == \"Yes\")].reset_index(drop=True)#Reset the index\n",
        "# Modify the conditional expression in parentheses to obtain rows that satisfy the condition\n",
        "\n",
        "\n",
        "# Select data from dataset where the \"age\"  is less than 20 or the \"Survived\" is equal to 1\n",
        "# df9=df[(df['Age'] < 20) | (df['Survived'] == 1)].reset_index(drop=True)#Reset the index\n",
        "print(df9)"
      ],
      "metadata": {
        "id": "GASbZnTraSKP",
        "trusted": true,
        "colab": {
          "base_uri": "https://localhost:8080/"
        },
        "outputId": "590b200d-c007-4ce5-8e51-2d585a77cd98"
      },
      "outputs": [
        {
          "output_type": "stream",
          "name": "stdout",
          "text": [
            "       ID Ever_Married  Age Graduated Profession  Work_Experience  \\\n",
            "0  462823          Yes   18       Yes   Engineer              NaN   \n",
            "1  467202          Yes   18        No     Doctor              0.0   \n",
            "\n",
            "  Spending_Score  Family_Size  \n",
            "0        Average          4.0  \n",
            "1            Low          4.0  \n"
          ]
        }
      ],
      "execution_count": 32
    },
    {
      "cell_type": "code",
      "source": [
        "# Select data from dataset where \"Sex\" is male and the \"Fare\" is lager than 30\n",
        "df_10 = df[(df['Work_Experience'] > 7) & (df['Graduated'] == \"Yes\")].reset_index(drop=True)\n",
        "print(df_10)\n"
      ],
      "metadata": {
        "id": "7y-7X-Jqc9d3",
        "colab": {
          "base_uri": "https://localhost:8080/"
        },
        "outputId": "e95cbde2-9d36-4beb-cfa8-8ddd19920574",
        "trusted": true
      },
      "outputs": [
        {
          "output_type": "stream",
          "name": "stdout",
          "text": [
            "         ID Ever_Married  Age Graduated  Profession  Work_Experience  \\\n",
            "0    458994          Yes   37       Yes  Healthcare              8.0   \n",
            "1    459041          Yes   55       Yes      Artist              8.0   \n",
            "2    459061          Yes   35       Yes  Healthcare              9.0   \n",
            "3    459083          Yes   63       Yes      Artist              9.0   \n",
            "4    459093          Yes   41       Yes      Doctor              9.0   \n",
            "..      ...          ...  ...       ...         ...              ...   \n",
            "231  467852           No   39       Yes      Artist             12.0   \n",
            "232  467876          Yes   50       Yes      Artist              9.0   \n",
            "233  467904           No   31       Yes      Artist             14.0   \n",
            "234  467927           No   30       Yes      Doctor              8.0   \n",
            "235  467968           No   43       Yes  Healthcare              9.0   \n",
            "\n",
            "    Spending_Score  Family_Size  \n",
            "0          Average          4.0  \n",
            "1              Low          1.0  \n",
            "2             High          3.0  \n",
            "3          Average          3.0  \n",
            "4          Average          2.0  \n",
            "..             ...          ...  \n",
            "231            Low          1.0  \n",
            "232           High          2.0  \n",
            "233            Low          1.0  \n",
            "234            Low          6.0  \n",
            "235            Low          3.0  \n",
            "\n",
            "[236 rows x 8 columns]\n"
          ]
        }
      ],
      "execution_count": 39
    },
    {
      "cell_type": "markdown",
      "source": [
        "## Data Analysis\n"
      ],
      "metadata": {
        "id": "d6kQsYfdGBfN"
      }
    },
    {
      "cell_type": "code",
      "source": [
        "print(df['Work_Experience'].value_counts())"
      ],
      "metadata": {
        "colab": {
          "base_uri": "https://localhost:8080/"
        },
        "id": "Xq3Gg7mUIPyy",
        "outputId": "9900a01b-6c3a-45ee-ff18-b76345e59075",
        "trusted": true
      },
      "outputs": [
        {
          "output_type": "stream",
          "name": "stdout",
          "text": [
            "Work_Experience\n",
            "1.0     773\n",
            "0.0     769\n",
            "8.0     149\n",
            "9.0     139\n",
            "4.0      93\n",
            "2.0      87\n",
            "3.0      82\n",
            "5.0      76\n",
            "6.0      61\n",
            "7.0      60\n",
            "14.0     21\n",
            "11.0     14\n",
            "12.0     12\n",
            "13.0     11\n",
            "10.0     11\n",
            "Name: count, dtype: int64\n"
          ]
        }
      ],
      "execution_count": 43
    },
    {
      "cell_type": "code",
      "source": [
        "# Draw a barplot to display the distribution of Sex\n",
        "Top=10000 #Change the top value based on your need\n",
        "col_name='Ever_Married' #Change the column name based on your need\n",
        "df_barplot=df   #Change the name of your dataframe to df_barplot\n",
        "xlabel='Ever Married?'  #Change the xlabel\n",
        "title='Distribution of Marital Status' #Change the title\n",
        "\n",
        "\n",
        "\n",
        "df_barplot[col_name].value_counts().head(Top).plot.bar()\n",
        "\n",
        "# Add labels and a title\n",
        "plt.xlabel(xlabel)\n",
        "plt.ylabel('Count')\n",
        "plt.title(title)\n",
        "\n",
        "# Add text annotations for the values\n",
        "for i, value in enumerate(df_barplot[col_name].value_counts()):\n",
        "    plt.text(i, value, str(value), ha='center', va='bottom')\n",
        "\n",
        "# Rotate the x-axis labels\n",
        "plt.xticks(rotation=45)  # You can adjust the rotation angle as needed\n",
        "\n",
        "# Show the plot\n",
        "plt.show()"
      ],
      "metadata": {
        "colab": {
          "base_uri": "https://localhost:8080/",
          "height": 483
        },
        "id": "aEgfbAYPIld7",
        "outputId": "5fca2d75-83fd-4779-bcdf-adfb5086b05b",
        "trusted": true
      },
      "outputs": [
        {
          "output_type": "display_data",
          "data": {
            "text/plain": [
              "<Figure size 640x480 with 1 Axes>"
            ],
            "image/png": "[encoded data removed]"
          },
          "metadata": {}
        }
      ],
      "execution_count": 50
    },
    {
      "cell_type": "code",
      "source": [
        "# Draw a barplot to display the distribution of top n Age\n",
        "Top=10 #Change the top value based on your need\n",
        "col_name='Age' #Change the column name based on your need\n",
        "df_barplot=df   #Change the name of your dataframe to df_barplot\n",
        "xlabel='Ages'  #Change the xlabel\n",
        "title='Most Common Ages' #Change the title\n",
        "\n",
        "\n",
        "\n",
        "df_barplot[col_name].value_counts().head(Top).plot.bar()\n",
        "\n",
        "# Add labels and a title\n",
        "plt.xlabel(xlabel)\n",
        "plt.ylabel('Count')\n",
        "plt.title(title)\n",
        "\n",
        "# Add text annotations for the values\n",
        "for i, value in enumerate(df_barplot[col_name].value_counts().head(Top)):\n",
        "    plt.text(i, value, str(value), ha='center', va='bottom')\n",
        "\n",
        "# Rotate the x-axis labels\n",
        "plt.xticks(rotation=45)  # You can adjust the rotation angle as needed\n",
        "\n",
        "# Show the plot\n",
        "plt.show()"
      ],
      "metadata": {
        "colab": {
          "base_uri": "https://localhost:8080/",
          "height": 480
        },
        "id": "vVSgtwIOFjxy",
        "outputId": "c99b8864-8392-442f-9639-ff3da0fe6767",
        "trusted": true
      },
      "outputs": [
        {
          "output_type": "display_data",
          "data": {
            "text/plain": [
              "<Figure size 640x480 with 1 Axes>"
            ],
            "image/png": "[encoded data removed]"
          },
          "metadata": {}
        }
      ],
      "execution_count": 53
    },
    {
      "cell_type": "code",
      "source": [
        "# Draw a barplot to display the survival situation of different Pclass\n",
        "\n",
        "Top=100      #Change the top value based on your need\n",
        "col_name='Graduated' #Change the column name based on your need\n",
        "group='Spending_Score'  #Select the subgroup\n",
        "df_barplot=df   #Change the name of your dataframe to df_barplot\n",
        "xlabel='College Graduate'  #Change the xlabel\n",
        "title='Spending score by education status' #Change the title\n",
        "\n",
        "\n",
        "top_n_values=df[col_name].value_counts().head(Top).index.tolist()\n",
        "top_n_values_rows=df[df[col_name].isin(top_n_values)].reset_index(drop=True)\n",
        "ax=top_n_values_rows.groupby(col_name)[group].value_counts().unstack().plot.bar()\n",
        "\n",
        "# Add labels and a title\n",
        "plt.xlabel(xlabel)\n",
        "plt.ylabel('Count')\n",
        "plt.title(title)\n",
        "\n",
        "\n",
        "# Add text annotations for the values\n",
        "for c in ax.containers:\n",
        "    # annotate the container group\n",
        "    ax.bar_label(c, label_type='edge')\n",
        "\n",
        "# Rotate the x-axis labels\n",
        "plt.xticks(rotation=45)  # You can adjust the rotation angle as needed\n",
        "\n",
        "# Show the plot\n",
        "plt.show()"
      ],
      "metadata": {
        "colab": {
          "base_uri": "https://localhost:8080/",
          "height": 483
        },
        "id": "pFFS8ZqaKmh5",
        "outputId": "d88968b6-58b5-4869-ac7d-18afb12bcde2",
        "trusted": true
      },
      "outputs": [
        {
          "output_type": "display_data",
          "data": {
            "text/plain": [
              "<Figure size 640x480 with 1 Axes>"
            ],
            "image/png": "[encoded data removed]"
          },
          "metadata": {}
        }
      ],
      "execution_count": 65
    },
    {
      "cell_type": "code",
      "source": [
        "# Draw a barplot to display the survival situation of different ages\n",
        "Top=15      #Change the top value based on your need\n",
        "col_name='Age' #Change the column name based on your need\n",
        "group='Graduated'  #Select the subgroup\n",
        "df_barplot=df   #Change the name of your dataframe to df_barplot\n",
        "xlabel='Age'  #Change the xlabel\n",
        "title='Education Status of Different Ages' #Change the title\n",
        "\n",
        "\n",
        "top_n_values=df[col_name].value_counts().head(Top).index.tolist()\n",
        "top_n_values_rows=df[df[col_name].isin(top_n_values)].reset_index(drop=True)\n",
        "ax=top_n_values_rows.groupby(col_name)[group].value_counts().unstack().plot.bar()\n",
        "\n",
        "# Add labels and a title\n",
        "plt.xlabel(xlabel)\n",
        "plt.ylabel('Count')\n",
        "plt.title(title)\n",
        "\n",
        "\n",
        "# Add text annotations for the values\n",
        "for c in ax.containers:\n",
        "    # annotate the container group\n",
        "    ax.bar_label(c, label_type='edge')\n",
        "\n",
        "# Rotate the x-axis labels\n",
        "plt.xticks(rotation=45)  # You can adjust the rotation angle as needed\n",
        "\n",
        "# Show the plot\n",
        "plt.show()\n"
      ],
      "metadata": {
        "colab": {
          "base_uri": "https://localhost:8080/",
          "height": 480
        },
        "id": "lvjsWkdpPjAE",
        "outputId": "43a15342-a76e-4755-8431-3ebae36a7161",
        "trusted": true
      },
      "outputs": [
        {
          "output_type": "display_data",
          "data": {
            "text/plain": [
              "<Figure size 640x480 with 1 Axes>"
            ],
            "image/png": "[encoded data removed]"
          },
          "metadata": {}
        }
      ],
      "execution_count": 67
    },
    {
      "cell_type": "markdown",
      "source": [
        "## Divide continuous feature into intervals"
      ],
      "metadata": {
        "id": "h78X8-b6U4bS"
      }
    },
    {
      "cell_type": "code",
      "source": [
        "def get_intervals(df, interval,label,column_name):\n",
        "  df[column_name + '_interval'] = pd.cut(df[column_name], interval, labels=label)\n",
        "\n",
        "#df is the name of dataframe you are using\n",
        "#Interval: The starting values and ending values of the intervals\n",
        "#label: The name of each interval\n",
        "#column_name: The column you want to divide\n",
        "get_intervals(df=df, interval=[0,20,30,40,80],label=['0-20','20-30','30-40','40-80'], column_name='Age')\n",
        "print(df.head())"
      ],
      "metadata": {
        "colab": {
          "base_uri": "https://localhost:8080/"
        },
        "id": "N2MkvbMbVMlG",
        "outputId": "f5be5f99-5e67-4ca1-fbf5-9a535ad55956",
        "trusted": true
      },
      "outputs": [
        {
          "output_type": "stream",
          "name": "stdout",
          "text": [
            "       ID Ever_Married  Age Graduated  Profession  Work_Experience  \\\n",
            "0  458989          Yes   36       Yes    Engineer              0.0   \n",
            "1  458994          Yes   37       Yes  Healthcare              8.0   \n",
            "2  458996          Yes   69        No         NaN              0.0   \n",
            "3  459000          Yes   59        No   Executive             11.0   \n",
            "4  459001           No   19        No   Marketing              NaN   \n",
            "\n",
            "  Spending_Score  Family_Size Age_interval  \n",
            "0            Low          1.0        30-40  \n",
            "1        Average          4.0        30-40  \n",
            "2            Low          1.0        40-80  \n",
            "3           High          2.0        40-80  \n",
            "4            Low          4.0         0-20  \n"
          ]
        }
      ],
      "execution_count": 68
    },
    {
      "cell_type": "code",
      "source": [
        "# Draw a barplot to display the survival situation of different ages\n",
        "Top=100      #Change the top value based on your need\n",
        "col_name='Family_Size' #Change the column name based on your need\n",
        "group='Ever_Married'  #Select the subgroup\n",
        "df_barplot=df   #Change the name of your dataframe to df_barplot\n",
        "xlabel='Count of Family Members'  #Change the xlabel\n",
        "title='Family Size by Historical Marital Status' #Change the title\n",
        "\n",
        "\n",
        "top_n_values=df[col_name].value_counts().head(Top).index.tolist()\n",
        "top_n_values_rows=df[df[col_name].isin(top_n_values)].reset_index(drop=True)\n",
        "ax=top_n_values_rows.groupby(col_name)[group].value_counts().unstack().plot.bar()\n",
        "\n",
        "# Add labels and a title\n",
        "plt.xlabel(xlabel)\n",
        "plt.ylabel('Count')\n",
        "plt.title(title)\n",
        "\n",
        "\n",
        "# Add text annotations for the values\n",
        "for c in ax.containers:\n",
        "    # annotate the container group\n",
        "    ax.bar_label(c, label_type='edge')\n",
        "\n",
        "# Rotate the x-axis labels\n",
        "plt.xticks(rotation=45)  # You can adjust the rotation angle as needed\n",
        "\n",
        "# Show the plot\n",
        "plt.show()"
      ],
      "metadata": {
        "colab": {
          "base_uri": "https://localhost:8080/",
          "height": 483
        },
        "id": "eXfzO1eRUxOD",
        "outputId": "74083b8f-7b11-4050-aead-61d0af69b575",
        "trusted": true
      },
      "outputs": [
        {
          "output_type": "display_data",
          "data": {
            "text/plain": [
              "<Figure size 640x480 with 1 Axes>"
            ],
            "image/png": "[encoded data removed]"
          },
          "metadata": {}
        }
      ],
      "execution_count": 72
    },
    {
      "cell_type": "markdown",
      "source": [
        "## What can you observe from the barplot? Summarize your findings."
      ],
      "metadata": {
        "id": "pQsnJ74FKJXV"
      }
    },
    {
      "cell_type": "code",
      "source": [
        "def get_intervals(df, interval, label, column_name):\n",
        "    # Check if all elements in the interval list are numbers\n",
        "    if not all(isinstance(x, (int, float)) for x in interval):\n",
        "        raise ValueError(\"The 'interval' argument must be a list of numbers.\")\n",
        "\n",
        "    df[column_name + '_interval'] = pd.cut(df[column_name], interval, labels=label)\n",
        "\n",
        "# Change the interval list to contain only numbers\n",
        "interval = [0, 3, 6, 9]\n",
        "\n",
        "# Call the get_intervals function with the modified interval list\n",
        "get_intervals(df=df, interval=interval, label=['Less Experience', 'Average Experience', 'Highly Experienced'], column_name='Work_Experience')\n",
        "\n",
        "print(df.head(20))"
      ],
      "metadata": {
        "colab": {
          "base_uri": "https://localhost:8080/"
        },
        "id": "zDeHsN0Dc2FJ",
        "outputId": "d2de971a-2119-4ef8-9bcf-cfdf706d958c",
        "trusted": true
      },
      "outputs": [
        {
          "output_type": "stream",
          "name": "stdout",
          "text": [
            "        ID Ever_Married  Age Graduated  Profession  Work_Experience  \\\n",
            "0   458989          Yes   36       Yes    Engineer              0.0   \n",
            "1   458994          Yes   37       Yes  Healthcare              8.0   \n",
            "2   458996          Yes   69        No         NaN              0.0   \n",
            "3   459000          Yes   59        No   Executive             11.0   \n",
            "4   459001           No   19        No   Marketing              NaN   \n",
            "5   459003          Yes   47       Yes      Doctor              0.0   \n",
            "6   459005          Yes   61       Yes      Doctor              5.0   \n",
            "7   459008          Yes   47       Yes      Artist              1.0   \n",
            "8   459013          Yes   50       Yes      Artist              2.0   \n",
            "9   459014           No   19        No  Healthcare              0.0   \n",
            "10  459015           No   22        No  Healthcare              0.0   \n",
            "11  459016           No   22        No  Healthcare              0.0   \n",
            "12  459024          Yes   50       Yes      Artist              1.0   \n",
            "13  459026           No   27        No  Healthcare              8.0   \n",
            "14  459032           No   18        No      Doctor              0.0   \n",
            "15  459033          Yes   61       Yes      Artist              0.0   \n",
            "16  459036          Yes   20       Yes      Lawyer              1.0   \n",
            "17  459039          Yes   45       Yes      Artist              1.0   \n",
            "18  459041          Yes   55       Yes      Artist              8.0   \n",
            "19  459045          Yes   88       Yes      Lawyer              1.0   \n",
            "\n",
            "   Spending_Score  Family_Size Age_interval Family_Size_interval  \\\n",
            "0             Low          1.0        30-40             Low Fare   \n",
            "1         Average          4.0        30-40             Low Fare   \n",
            "2             Low          1.0        40-80             Low Fare   \n",
            "3            High          2.0        40-80             Low Fare   \n",
            "4             Low          4.0         0-20             Low Fare   \n",
            "5            High          5.0        40-80             Low Fare   \n",
            "6             Low          3.0        40-80             Low Fare   \n",
            "7         Average          3.0        40-80             Low Fare   \n",
            "8         Average          4.0        40-80             Low Fare   \n",
            "9             Low          4.0         0-20             Low Fare   \n",
            "10            Low          3.0        20-30             Low Fare   \n",
            "11            Low          6.0        20-30             Low Fare   \n",
            "12        Average          5.0        40-80             Low Fare   \n",
            "13            Low          3.0        20-30             Low Fare   \n",
            "14            Low          3.0         0-20             Low Fare   \n",
            "15            Low          1.0        40-80             Low Fare   \n",
            "16        Average          3.0         0-20             Low Fare   \n",
            "17        Average          2.0        40-80             Low Fare   \n",
            "18            Low          1.0        40-80             Low Fare   \n",
            "19        Average          4.0          NaN             Low Fare   \n",
            "\n",
            "   Work_Experience_interval  \n",
            "0                       NaN  \n",
            "1        Highly Experienced  \n",
            "2                       NaN  \n",
            "3                       NaN  \n",
            "4                       NaN  \n",
            "5                       NaN  \n",
            "6        Average Experience  \n",
            "7           Less Experience  \n",
            "8           Less Experience  \n",
            "9                       NaN  \n",
            "10                      NaN  \n",
            "11                      NaN  \n",
            "12          Less Experience  \n",
            "13       Highly Experienced  \n",
            "14                      NaN  \n",
            "15                      NaN  \n",
            "16          Less Experience  \n",
            "17          Less Experience  \n",
            "18       Highly Experienced  \n",
            "19          Less Experience  \n"
          ]
        }
      ],
      "execution_count": 104
    },
    {
      "cell_type": "code",
      "source": [
        "# Draw a barplot to display the survival situation of different genders\n",
        "Top=15      #Change the top value based on your need\n",
        "col_name='Ever_Married' #Change the column name based on your need\n",
        "group='Graduated'  #Select the subgroup\n",
        "df_barplot=df   #Change the name of your dataframe to df_barplot\n",
        "xlabel='Graduated College?'  #Change the xlabel\n",
        "title='Education Status by Historical Marital Status' #Change the title\n",
        "\n",
        "\n",
        "top_n_values=df[col_name].value_counts().head(Top).index.tolist()\n",
        "top_n_values_rows=df[df[col_name].isin(top_n_values)].reset_index(drop=True)\n",
        "ax=top_n_values_rows.groupby(col_name)[group].value_counts().unstack().plot.bar()\n",
        "\n",
        "# Add labels and a title\n",
        "plt.xlabel(xlabel)\n",
        "plt.ylabel('Count')\n",
        "plt.title(title)\n",
        "\n",
        "\n",
        "# Add text annotations for the values\n",
        "for c in ax.containers:\n",
        "    # annotate the container group\n",
        "    ax.bar_label(c, label_type='edge')\n",
        "\n",
        "# Rotate the x-axis labels\n",
        "plt.xticks(rotation=45)  # You can adjust the rotation angle as needed\n",
        "\n",
        "# Show the plot\n",
        "plt.show()\n"
      ],
      "metadata": {
        "id": "vilkIzU3R1hD",
        "colab": {
          "base_uri": "https://localhost:8080/",
          "height": 483
        },
        "outputId": "84e07992-52be-45b3-ee3f-64bcb510307b",
        "trusted": true
      },
      "outputs": [
        {
          "output_type": "display_data",
          "data": {
            "text/plain": [
              "<Figure size 640x480 with 1 Axes>"
            ],
            "image/png": "[encoded data removed]"
          },
          "metadata": {}
        }
      ],
      "execution_count": 92
    },
    {
      "cell_type": "code",
      "source": [],
      "metadata": {
        "trusted": true,
        "id": "cuyr04oIH9Pa"
      },
      "outputs": [],
      "execution_count": null
    }
  ]
}