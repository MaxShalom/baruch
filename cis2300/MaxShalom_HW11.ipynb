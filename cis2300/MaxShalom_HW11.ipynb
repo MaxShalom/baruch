{
  "metadata": {
    "kernelspec": {
      "name": "python",
      "display_name": "Python (Pyodide)",
      "language": "python"
    },
    "language_info": {
      "codemirror_mode": {
        "name": "python",
        "version": 3
      },
      "file_extension": ".py",
      "mimetype": "text/x-python",
      "name": "python",
      "nbconvert_exporter": "python",
      "pygments_lexer": "ipython3",
      "version": "3.8"
    }
  },
  "nbformat_minor": 4,
  "nbformat": 4,
  "cells": [
    {
      "cell_type": "markdown",
      "source": "# Question 1",
      "metadata": {}
    },
    {
      "cell_type": "code",
      "source": "swimmers = {'Manuel':4, 'Lochte':12, 'Adrian':7, 'Ledecky':5, 'Dirado':4, 'Phelps':23}\nswimmers['Phelps'] += 5\ndel swimmers['Lochte']\n\nkey_list = list(swimmers.keys())\nvalue_list = list(swimmers.values())\n\nprint(\"Updated dictionary:\", swimmers)\nprint(\"Keys:\", key_list)\nprint(\"Values:\", value_list)\n",
      "metadata": {
        "trusted": true
      },
      "outputs": [
        {
          "name": "stdout",
          "text": "Updated dictionary: {'Manuel': 4, 'Adrian': 7, 'Ledecky': 5, 'Dirado': 4, 'Phelps': 28}\nKeys: ['Manuel', 'Adrian', 'Ledecky', 'Dirado', 'Phelps']\nValues: [4, 7, 5, 4, 28]\n",
          "output_type": "stream"
        }
      ],
      "execution_count": 1
    },
    {
      "cell_type": "markdown",
      "source": "# Question 2",
      "metadata": {}
    },
    {
      "cell_type": "code",
      "source": "def countLetter(string):\n    letter_count = {}\n    for char in string:\n        char = char.lower()\n        if char in letter_count:\n            letter_count[char] += 1\n        else:\n            letter_count[char] = 1\n    return letter_count\n\ndef main():\n    input_string = \"I am a student.\"\n    result = countLetter(input_string)\n    print(\"Output:\", result)\n\nmain()",
      "metadata": {
        "trusted": true
      },
      "outputs": [
        {
          "name": "stdout",
          "text": "Output: {'i': 1, ' ': 3, 'a': 2, 'm': 1, 's': 1, 't': 2, 'u': 1, 'd': 1, 'e': 1, 'n': 1, '.': 1}\n",
          "output_type": "stream"
        }
      ],
      "execution_count": 3
    }
  ]
}