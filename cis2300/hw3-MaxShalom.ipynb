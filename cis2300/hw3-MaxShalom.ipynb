{
  "metadata": {
    "kernelspec": {
      "name": "python",
      "display_name": "Python (Pyodide)",
      "language": "python"
    },
    "language_info": {
      "codemirror_mode": {
        "name": "python",
        "version": 3
      },
      "file_extension": ".py",
      "mimetype": "text/x-python",
      "name": "python",
      "nbconvert_exporter": "python",
      "pygments_lexer": "ipython3",
      "version": "3.8"
    }
  },
  "nbformat_minor": 4,
  "nbformat": 4,
  "cells": [
    {
      "cell_type": "markdown",
      "source": "# Homework 3\n#### Max Shalom",
      "metadata": {}
    },
    {
      "cell_type": "markdown",
      "source": "1.\tWrite a program that asks the user for the number of miles driven and the gallons of gas used. It should calculate the car’s MPG (Miles per Gallon). Round the MPG to four decimal places (using format() function) and display the test result.",
      "metadata": {}
    },
    {
      "cell_type": "code",
      "source": "miles_driven = float(input(\"Enter the number of miles driven: \"))\ngallons_used = float(input(\"Enter the gallons of gas used: \"))\n\nmpg = miles_driven / gallons_used if gallons_used != 0 else 0\n\nprint(\"The car's MPG is:\", format(mpg, '.4f'))\n",
      "metadata": {
        "trusted": true
      },
      "outputs": [],
      "execution_count": null
    },
    {
      "cell_type": "markdown",
      "source": "2.\tWrite a program to calculate and output the order subtotal amount, total sales tax amount, and order total amount. Ask the user to provide the following information:\r    - \tPrice and quantities for 3 item s    - .\tSales tax in % (e.g. 8.8% should be entered as 0.08 \n)\r\nRound subtotal amount, total sales tax amount, and order total amount to two decimal places. Test your program and display the results.  \r\n",
      "metadata": {}
    },
    {
      "cell_type": "code",
      "source": "def calculate_subtotal(price, quantity):\n    return price * quantity\n\nitems = []\nfor i in range(3):\n    price = float(input(f\"Enter the price of item {i+1}: \"))\n    quantity = int(input(f\"Enter the quantity of item {i+1}: \"))\n    items.append((price, quantity))\n\nsales_tax_rate = float(input(\"Enter the sales tax rate (e.g., 8.8% should be entered as 0.088): \"))\n\nsubtotal = 0\nfor price, quantity in items:\n    subtotal += calculate_subtotal(price, quantity)\n\ntotal_sales_tax = subtotal * sales_tax_rate\n\norder_total = subtotal + total_sales_tax\n\nprint(\"Order Subtotal: $\", format(subtotal, '.2f'))\nprint(\"Total Sales Tax: $\", format(total_sales_tax, '.2f'))\nprint(\"Order Total: $\", format(order_total, '.2f'))\n",
      "metadata": {
        "trusted": true
      },
      "outputs": [],
      "execution_count": null
    },
    {
      "cell_type": "markdown",
      "source": "",
      "metadata": {}
    },
    {
      "cell_type": "code",
      "source": "loan_amount = float(input(\"Enter the loan amount: \"))\nannual_percentage_rate = float(input(\"Enter the Annual Percentage Rate (e.g., 5% should be entered as 0.05): \"))\nloan_terms_months = int(input(\"Enter the loan terms in number of months: \"))\n\nmonthly_interest_rate = annual_percentage_rate / 12\n\nmonthly_payment = (loan_amount * monthly_interest_rate) / (1 - (1 + monthly_interest_rate) ** -loan_terms_months)\n\nprint(\"Monthly loan payment: $\", format(monthly_payment, '.2f'))\n",
      "metadata": {
        "trusted": true
      },
      "outputs": [],
      "execution_count": null
    },
    {
      "cell_type": "markdown",
      "source": "4.\tWrite a program that calculates the total amount of a meal purchased at a restaurant. The program should ask the user to enter their name, the charge for the food, what percent tip, and 7 percent sales tax. Display each of these amounts and the final total amount along with the user name.",
      "metadata": {}
    },
    {
      "cell_type": "code",
      "source": "name = input(\"Enter your name: \")\ncharge_food = float(input(\"Enter the charge for the food: \"))\ntip_percent = float(input(\"Enter the tip percentage: \"))\nsales_tax_percent = 0.07\n\ntip_amount = charge_food * (tip_percent / 100)\nsales_tax_amount = charge_food * sales_tax_percent\ntotal_amount = charge_food + tip_amount + sales_tax_amount\n\nprint(\"Name:\", name)\nprint(\"Food Charge: $\", format(charge_food, '.2f'))\nprint(\"Tip Amount: $\", format(tip_amount, '.2f'))\nprint(\"Sales Tax: $\", format(sales_tax_amount, '.2f'))\nprint(\"Total Amount: $\", format(total_amount, '.2f'))\n",
      "metadata": {
        "trusted": true
      },
      "outputs": [],
      "execution_count": null
    }
  ]
}