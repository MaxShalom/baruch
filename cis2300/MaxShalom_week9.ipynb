{
  "metadata": {
    "kernelspec": {
      "name": "python",
      "display_name": "Python (Pyodide)",
      "language": "python"
    },
    "language_info": {
      "codemirror_mode": {
        "name": "python",
        "version": 3
      },
      "file_extension": ".py",
      "mimetype": "text/x-python",
      "name": "python",
      "nbconvert_exporter": "python",
      "pygments_lexer": "ipython3",
      "version": "3.8"
    }
  },
  "nbformat_minor": 4,
  "nbformat": 4,
  "cells": [
    {
      "cell_type": "markdown",
      "source": "# Question 1",
      "metadata": {}
    },
    {
      "cell_type": "code",
      "source": "numbers = [74, 19, 105, 20, -2, 67, 77, 124, -45, 38]\nvalid_numbers = [num for num in numbers if 0 <= num <= 100]\n\ntotal = sum(valid_numbers)\naverage = total / len(valid_numbers) if valid_numbers else 0\n\nprint(\"Valid numbers between 0 and 100:\", valid_numbers)\nprint(\"Total of valid numbers:\", total)\nprint(\"Average of valid numbers:\", average)\n",
      "metadata": {
        "trusted": true
      },
      "outputs": [],
      "execution_count": null
    },
    {
      "cell_type": "markdown",
      "source": "# Question 2",
      "metadata": {}
    },
    {
      "cell_type": "code",
      "source": "my_list = [1, 2, 3, 4, 5, 6, 7]\n\nmy_list.append(10)\nmy_list.insert(5, 8)\nmy_list.remove(3)\n\nvalue_5_exists = 5 in my_list\nprint(\"5 exists in list?: \", value_5_exists)\n\nmy_list.sort()\nmy_list.reverse()\n\nprint(my_list)\n",
      "metadata": {
        "trusted": true
      },
      "outputs": [],
      "execution_count": null
    }
  ]
}