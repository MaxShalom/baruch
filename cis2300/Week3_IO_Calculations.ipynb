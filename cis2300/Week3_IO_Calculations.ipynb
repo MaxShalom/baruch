{
  "cells": [
    {
      "cell_type": "markdown",
      "metadata": {
        "id": "dBPshPxT4MRR"
      },
      "source": [
        "# Objective: Write python programs to collect user input, perform calculations, and produce formatted output"
      ]
    },
    {
      "cell_type": "markdown",
      "metadata": {
        "id": "rPgEm1z14MRT"
      },
      "source": [
        "Commenting your code\n",
        "\n",
        "What are basic data types?\n",
        "\n",
        "CONSTANTs and variables\n",
        "\n",
        "Assigning values to variables\n",
        "\n",
        "Variable naming rules: Do's and Don'ts\n",
        "\n",
        "Python operators and precedence\n",
        "\n",
        "Output formatting"
      ]
    },
    {
      "cell_type": "code",
      "source": [
        "# 1. Comments in Python are identified with a hash symbol, #, and extend to the end of the line.\n",
        "\n",
        "# Ctrl + / or type # sign\n",
        "# Shift+3\n",
        "\n",
        "\n",
        "# 2.input\n",
        "age=input(\"What is your age?\") # input\n",
        "print('age:',age)\n",
        "# Default data type when doing input is string\n",
        "\n",
        "type(input(\"What is your age?\"))    #The type() function either returns the type of the object or returns a new type object based on the arguments passed.\n",
        "# input function returns the entered value, as a string, back to the program."
      ],
      "metadata": {
        "id": "z2gDGhoz5I5E",
        "colab": {
          "base_uri": "https://localhost:8080/"
        },
        "outputId": "1939baed-5979-4dfb-ddbc-1ed9ad721fb9"
      },
      "execution_count": null,
      "outputs": [
        {
          "name": "stdout",
          "output_type": "stream",
          "text": [
            "What is your age?1\n",
            "age: 1\n",
            "What is your age?1\n"
          ]
        },
        {
          "output_type": "execute_result",
          "data": {
            "text/plain": [
              "str"
            ]
          },
          "metadata": {},
          "execution_count": 3
        }
      ]
    },
    {
      "cell_type": "markdown",
      "source": [
        "**Int Data Type**\n",
        "\n",
        ">\n",
        "\n",
        "positive or negative whole number without a decimal point\n",
        "*   5\n",
        "\n",
        ">\n",
        "**Float Data Type**\n",
        "\n",
        ">\n",
        "A numeric literal that is written with a decimal point is considered a float\n",
        "\n",
        "*   5.0\n",
        "\n",
        "\n",
        "\n",
        "\n",
        "\n",
        "**Boolean Data Type**\n",
        "\n",
        ">\n",
        "\n",
        "Not all variables should assume numeric values. An example of such type of values is the Boolean type.\n",
        "\n",
        "*   In Python, this means a True or False value, corresponding to the machine’s logic of understanding 1s and 0s, on or off, right or wrong, true or false.\n",
        "\n",
        "*   Double equal sign == in Python is to compare values of two expressions or objects. It checks if the values are equal and returns a Boolean result (True or False)\n",
        "\n",
        "*   1==1  True\n",
        "*   1==0  False\n",
        "\n",
        ">\n",
        "\n",
        "\n",
        "\n",
        "**String Data Type**\n",
        "\n",
        ">\n",
        "Strings are text values composed of a sequence of characters.\n",
        "\n",
        "*   \"What is your name?\"\n",
        "\n",
        "\n",
        "\n",
        "\n"
      ],
      "metadata": {
        "id": "WtLOugfz-BJP"
      }
    },
    {
      "cell_type": "markdown",
      "source": [
        "# ** Assigning values to variables**\n",
        " The assignment operator, denoted by the “=” symbol, is the operator that is used to assign values to variables in Python. The line x=1 takes the known value, 1, and assigns that value to the variable with name “x”. After executing this line, this number will be stored into this variable. Until the value is changed or the variable deleted, the character x behaves like the value 1."
      ],
      "metadata": {
        "id": "jxF3WuTmCj6J"
      }
    },
    {
      "cell_type": "code",
      "execution_count": null,
      "metadata": {
        "id": "rArZiAHi4MRV",
        "colab": {
          "base_uri": "https://localhost:8080/"
        },
        "outputId": "81b86ba8-da2f-4858-e5cf-1caad21383a3"
      },
      "outputs": [
        {
          "output_type": "stream",
          "name": "stdout",
          "text": [
            "5 hello\n",
            "5\n",
            "hello\n"
          ]
        }
      ],
      "source": [
        "# In the assignment statement, variable receiving value must be on left side.\n",
        "x=1\n",
        "\n",
        "# Multiple assignment is possible in Python.\n",
        "\n",
        "a,b = 5, 'hello'\n",
        "# a=5\n",
        "# b='hello'\n",
        "print (a,b)\n",
        "print(a)\n",
        "print(b)"
      ]
    },
    {
      "cell_type": "code",
      "source": [
        "\n",
        "#TODO: assign 20 to a variable called age\n",
        "\n",
        "\n",
        "#TODO: print age\n"
      ],
      "metadata": {
        "id": "7NMAHuJzVBZD",
        "colab": {
          "base_uri": "https://localhost:8080/"
        },
        "outputId": "7bff41de-b8fc-4513-83bc-79d5a01cd366"
      },
      "execution_count": null,
      "outputs": [
        {
          "output_type": "stream",
          "name": "stdout",
          "text": [
            "20\n"
          ]
        }
      ]
    },
    {
      "cell_type": "code",
      "source": [
        "#The type() function either returns the type of the object or returns a new type object based on the arguments passed.\n",
        "print(type(5))\n",
        "a='5'\n",
        "b=0.5\n",
        "print(type(a))\n",
        "print(type(b))"
      ],
      "metadata": {
        "colab": {
          "base_uri": "https://localhost:8080/"
        },
        "id": "vSw_-fnW448K",
        "outputId": "c046ca52-3ed4-47fa-bbbd-3e54b7a6f301"
      },
      "execution_count": null,
      "outputs": [
        {
          "output_type": "stream",
          "name": "stdout",
          "text": [
            "<class 'int'>\n",
            "<class 'str'>\n",
            "<class 'float'>\n"
          ]
        }
      ]
    },
    {
      "cell_type": "code",
      "execution_count": null,
      "metadata": {
        "colab": {
          "base_uri": "https://localhost:8080/"
        },
        "id": "AhW9SY5E4MRT",
        "outputId": "7d739486-fca9-4275-8e1c-7aef8d02d990"
      },
      "outputs": [
        {
          "output_type": "stream",
          "name": "stdout",
          "text": [
            "What is your age?20\n",
            "20 <class 'str'> <class 'int'>\n",
            "What is my salary?20\n",
            "20.0 <class 'float'>\n"
          ]
        }
      ],
      "source": [
        "# Type conversion from string to int and float.\n",
        "# Default data type when doing input is string.\n",
        "\n",
        "# int()    converts the specified value into an integer number\n",
        "# float()   converts the specified value into an float number\n",
        "# str()    converts the specified value into a string\n",
        "\n",
        "age=input(\"What is your age?\")\n",
        "print(age,type(age),type(int(age)))\n",
        "\n",
        "\n",
        "\n",
        "sal = float(input(\"What is my salary?\"))\n",
        "print(sal,type(sal))"
      ]
    },
    {
      "cell_type": "code",
      "execution_count": null,
      "metadata": {
        "colab": {
          "base_uri": "https://localhost:8080/"
        },
        "id": "jBkeXI4_4MRT",
        "outputId": "6ff38878-e8a1-4c4a-bb2e-230943f79567"
      },
      "outputs": [
        {
          "output_type": "stream",
          "name": "stdout",
          "text": [
            "5.2 <class 'float'>\n",
            "5.2 <class 'str'>\n"
          ]
        }
      ],
      "source": [
        "# even though this is declared as float in the beginning you can always\n",
        "# change its data by assigning different values\n",
        "sal = 5.2\n",
        "print(sal,type(sal))\n",
        "\n",
        "       #TODO: convert sal to an str value using str()\n",
        "       #TODO: print the data typy of variable sal"
      ]
    },
    {
      "cell_type": "code",
      "source": [
        "# Boolean Data Type\n",
        "\n",
        "# Not all variables should assume numeric values. An example of such type of values is the Boolean type.\n",
        "\n",
        "# In Python, this means a True or False value, corresponding to the machine’s logic of understanding 1s and 0s, on or off, right or wrong, true or false.\n",
        "\n",
        "\n",
        "\n",
        "print(1==0,type(1==0))\n",
        "print(1>0,type(1==0))\n",
        "print(1<0,type(1==0))\n",
        "\n",
        "a=1==1\n",
        "\n",
        "print('a:',a,type(a))"
      ],
      "metadata": {
        "colab": {
          "base_uri": "https://localhost:8080/"
        },
        "id": "m9XXlIuYXGic",
        "outputId": "ae18e89e-bcea-4755-97b0-d88cf389beff"
      },
      "execution_count": null,
      "outputs": [
        {
          "output_type": "stream",
          "name": "stdout",
          "text": [
            "False <class 'bool'>\n",
            "True <class 'bool'>\n",
            "False <class 'bool'>\n",
            "a: True <class 'bool'>\n"
          ]
        }
      ]
    },
    {
      "cell_type": "code",
      "execution_count": null,
      "metadata": {
        "id": "rZI5Coc_4MRU"
      },
      "outputs": [],
      "source": [
        "# The python statement below defines the constant called TAX_RATE. It is a common practice to use all CAPS letters to\n",
        "# designate a constant.. And this is how you add comments to your code using # character.\n",
        "TAX_RATE = 0.0875"
      ]
    },
    {
      "cell_type": "code",
      "execution_count": null,
      "metadata": {
        "id": "B716_QsU4MRX",
        "colab": {
          "base_uri": "https://localhost:8080/",
          "height": 233
        },
        "outputId": "1deec93d-6d75-4b5c-cd01-08a581e4cc7d"
      },
      "outputs": [
        {
          "name": "stdout",
          "output_type": "stream",
          "text": [
            "What is your age? 45.6\n"
          ]
        },
        {
          "output_type": "error",
          "ename": "ValueError",
          "evalue": "ignored",
          "traceback": [
            "\u001b[0;31m---------------------------------------------------------------------------\u001b[0m",
            "\u001b[0;31mValueError\u001b[0m                                Traceback (most recent call last)",
            "\u001b[0;32m<ipython-input-5-c3c8b1048664>\u001b[0m in \u001b[0;36m<cell line: 4>\u001b[0;34m()\u001b[0m\n\u001b[1;32m      2\u001b[0m \u001b[0;31m# print(price)\u001b[0m\u001b[0;34m\u001b[0m\u001b[0;34m\u001b[0m\u001b[0m\n\u001b[1;32m      3\u001b[0m \u001b[0;31m# # Throws an error when user enters non-int value\u001b[0m\u001b[0;34m\u001b[0m\u001b[0;34m\u001b[0m\u001b[0m\n\u001b[0;32m----> 4\u001b[0;31m \u001b[0mage\u001b[0m \u001b[0;34m=\u001b[0m \u001b[0mint\u001b[0m\u001b[0;34m(\u001b[0m\u001b[0minput\u001b[0m\u001b[0;34m(\u001b[0m\u001b[0;34m'What is your age? '\u001b[0m\u001b[0;34m)\u001b[0m\u001b[0;34m)\u001b[0m\u001b[0;34m\u001b[0m\u001b[0;34m\u001b[0m\u001b[0m\n\u001b[0m",
            "\u001b[0;31mValueError\u001b[0m: invalid literal for int() with base 10: '45.6'"
          ]
        }
      ],
      "source": [
        "# What happens when you run each of these statements?\n",
        "\n",
        "# age = int(input('What is your age? ')) and user enters 45.6\n",
        "\n",
        "age = int(input('What is your age? ')) # Throws an error when user enters non-int value\n"
      ]
    },
    {
      "cell_type": "markdown",
      "metadata": {
        "id": "B_1pi9tP4MRW"
      },
      "source": [
        "# Rules for naming variables in Python:\n",
        "First character must be a letter or an underscore <br>\n",
        "After the first character, you may use letters, digits, or underscores <br>\n",
        "Variable name cannot be a Python key word <br>\n",
        "\n",
        "* ['False', 'None', 'True', 'and', 'as', 'assert', 'async', 'await', 'break', 'class', 'continue', 'def', 'del', 'elif', 'else', 'except', 'finally', 'for', 'from', 'global', 'if', 'import', 'in', 'is', 'lambda', 'nonlocal', 'not', 'or', 'pass', 'raise', 'return', 'try', 'while', 'with', 'yield']\n",
        "\n",
        "\n",
        "Variable names are case sensitive <br>\n",
        "Variable name should reflect its use and be descriptive (for example, length=25 is preferable over a=25) <br>\n",
        "\n",
        "Good: name, pig, length, abc123 <br>\n",
        "Bad: 23name, var.12, #name <br>\n",
        "Different: name, NAME, Name <br>"
      ]
    },
    {
      "cell_type": "code",
      "source": [
        "# variable name must NOT begin with a number\n",
        "99sal=444 #erroenous since it begins with a number\n",
        "\n",
        "ab-2=4 # erroenous since it has - in its name"
      ],
      "metadata": {
        "id": "0tSkTNKpVbkF"
      },
      "execution_count": null,
      "outputs": []
    },
    {
      "cell_type": "code",
      "execution_count": null,
      "metadata": {
        "id": "GA187lFc4MRW",
        "colab": {
          "base_uri": "https://localhost:8080/",
          "height": 141
        },
        "outputId": "4e8f7503-4a0a-40b1-ae08-e39b37776683"
      },
      "outputs": [
        {
          "output_type": "error",
          "ename": "SyntaxError",
          "evalue": "ignored",
          "traceback": [
            "\u001b[0;36m  File \u001b[0;32m\"<ipython-input-52-42324216d0ed>\"\u001b[0;36m, line \u001b[0;32m5\u001b[0m\n\u001b[0;31m    ab%2=4\u001b[0m\n\u001b[0m    ^\u001b[0m\n\u001b[0;31mSyntaxError\u001b[0m\u001b[0;31m:\u001b[0m cannot assign to expression here. Maybe you meant '==' instead of '='?\n"
          ]
        }
      ],
      "source": [
        "# Exercise\n",
        "# Spot and correct the errors\n",
        "\n",
        "x=5\n",
        "\n",
        "3a2=1\n",
        "\n",
        "ab%2=4\n",
        "\n",
        "ab 2=5\n"
      ]
    },
    {
      "cell_type": "markdown",
      "source": [
        "# Output formatting\n",
        "Removing endline or adding separators or escape characters <br>\n",
        "... Achieved via different arguments passed to print() function (end=xx, sep=xx, etc.) <br>\n",
        "\n",
        "Formatting numbers, inserting comma separators, and specifying minimum field width <br>\n",
        "... All of these are achieved with format() function's specifier (e.g. '10,.2f', '.2e')"
      ],
      "metadata": {
        "id": "BXnUldxDUAZi"
      }
    },
    {
      "cell_type": "code",
      "source": [
        "# The separator between the arguments to print() function in Python is space by default,\n",
        "# which can be modified and can be made to any character, integer or string as per our choice.\n",
        "\n",
        "print('01','30','1993')\n",
        "\n",
        "print('01','30','1993', sep='-')\n",
        "# 01-30-1993\n",
        "\n",
        "print('01','30','1993', sep='')\n",
        "# 01301993"
      ],
      "metadata": {
        "id": "o-4PG7FPUBnU",
        "colab": {
          "base_uri": "https://localhost:8080/"
        },
        "outputId": "01b405cb-bf83-4ff5-9ab4-f050ab71f09c"
      },
      "execution_count": null,
      "outputs": [
        {
          "output_type": "stream",
          "name": "stdout",
          "text": [
            "01 30 1993\n",
            "01-30-1993\n",
            "01301993\n"
          ]
        }
      ]
    },
    {
      "cell_type": "code",
      "execution_count": null,
      "metadata": {
        "id": "XkzaIaJc4MRX",
        "colab": {
          "base_uri": "https://localhost:8080/"
        },
        "outputId": "1b0fad57-8b08-424e-cf71-affd68fbaca7"
      },
      "outputs": [
        {
          "output_type": "stream",
          "name": "stdout",
          "text": [
            "Red**Green\n"
          ]
        }
      ],
      "source": [
        "\n",
        "# using the same print statement. Default separator is space character.\n",
        "\n",
        "#TODO: Adds a '**' as a separator between two strings that are output\n"
      ]
    },
    {
      "cell_type": "code",
      "source": [
        "# Python‘s print() function ends with a newline. 'end =' can end a print statement with any character/string\n",
        "\n",
        "print('01')\n",
        "print('30')\n",
        "print('1993')\n",
        "# 01\n",
        "# 30\n",
        "# 1993\n",
        "\n",
        "print('01',end='-')\n",
        "print('30',end='-')\n",
        "print('1993')\n",
        "# 01-30-1993\n"
      ],
      "metadata": {
        "colab": {
          "base_uri": "https://localhost:8080/"
        },
        "id": "kcCl4HP-UHAh",
        "outputId": "bce0134e-8849-4f9d-bcc7-83b6566762aa"
      },
      "execution_count": null,
      "outputs": [
        {
          "output_type": "stream",
          "name": "stdout",
          "text": [
            "01\n",
            "30\n",
            "1993\n",
            "01-30-1993\n"
          ]
        }
      ]
    },
    {
      "cell_type": "code",
      "source": [
        "# pass the special argument end=' ' to the function\n",
        "\n",
        "print('One', end=' ')\n",
        "print('Two', end='@')\n",
        "print('Three')\n",
        "print('Four')"
      ],
      "metadata": {
        "colab": {
          "base_uri": "https://localhost:8080/"
        },
        "id": "6zC-irMeN1Fm",
        "outputId": "42722c7c-966e-446f-f533-b406d68ea67d"
      },
      "execution_count": null,
      "outputs": [
        {
          "output_type": "stream",
          "name": "stdout",
          "text": [
            "One Two@Three\n",
            "Four\n"
          ]
        }
      ]
    },
    {
      "cell_type": "code",
      "source": [
        "# \\' Causes a single quote mark to be printed.\n",
        "print('a\\'h')\n",
        "# print('a' h')\n",
        "\n",
        "# \\\" Causes a double quote mark to be printed\n",
        "print(\"a\\\"h\")\n",
        "\n",
        "\n",
        "\n",
        "# Triple-quoted strings can contain both single quotes and double quotes as part of the string.\n",
        "\n",
        "print(\"\"\"askdfj'h\n",
        "aksdfjhs\"d\n",
        "asdk\\j\"\"\")"
      ],
      "metadata": {
        "colab": {
          "base_uri": "https://localhost:8080/"
        },
        "id": "esh47FqRUl5X",
        "outputId": "8a7ef445-8b93-414c-e2c6-8ee58015e97b"
      },
      "execution_count": null,
      "outputs": [
        {
          "output_type": "stream",
          "name": "stdout",
          "text": [
            "a'h\n",
            "a\"h\n",
            "askdfj'h\n",
            "aksdfjhs\"d\n",
            "asdk\\j\n"
          ]
        }
      ]
    },
    {
      "cell_type": "code",
      "source": [
        "# this will output the value of the last variable on last line\n",
        "a=1\n",
        "b=2\n",
        "\n",
        "a\n",
        "b\n",
        "\n"
      ],
      "metadata": {
        "id": "kThLgdBVSvL_",
        "colab": {
          "base_uri": "https://localhost:8080/"
        },
        "outputId": "6b5a5075-74a4-49fc-bfcf-0d1f6dc2d11c"
      },
      "execution_count": null,
      "outputs": [
        {
          "output_type": "execute_result",
          "data": {
            "text/plain": [
              "2"
            ]
          },
          "metadata": {},
          "execution_count": 10
        }
      ]
    },
    {
      "cell_type": "code",
      "source": [
        "# Formatting numbers, inserting comma separators, and specifying minimum field width\n",
        "# ... All of these are achieved with format() function's specifier (e.g. '10,.2f', '.2e')\n",
        "# '.2': round the number to two decimal places.\n",
        "# 'f' : display floating-point number\n",
        "# 'e': display floating-point numbers in scientific notation\n",
        "# ',': format the number with comma separators\n",
        "# '12': the number should be displayed in a field that is a minimum of 12 spaces wide.\n",
        "Amt=4550000\n",
        "\n",
        "print(Amt)\n",
        "print(format(Amt,\"12,.2f\"))# specifier \"12,.2f\"\n",
        "print(format(Amt,\"12\"),len(format(Amt,\"12\")))# Output 12 characters, padded with spaces\n",
        "print(format(Amt,\"12,\")) # format the number with comma separators\n",
        "print(format(Amt,\"14,.2f\")) # .2 represents the number of digits reserved after the decimal point\n",
        "print(format(Amt,\"14,.2e\"))# display floating-point number in scientific notation"
      ],
      "metadata": {
        "id": "MK7yxbggURIK",
        "colab": {
          "base_uri": "https://localhost:8080/"
        },
        "outputId": "30db999d-0137-40ae-eb0e-e2ee510d9c1a"
      },
      "execution_count": null,
      "outputs": [
        {
          "output_type": "stream",
          "name": "stdout",
          "text": [
            "4550000\n",
            "4,550,000.00\n",
            "     4550000 12\n",
            "   4,550,000\n",
            "  4,550,000.00\n",
            "      4.55e+06\n"
          ]
        }
      ]
    },
    {
      "cell_type": "markdown",
      "source": [
        "# Python Operators\n",
        "\n",
        "\" + \"\tAddition ------------ Adds two numbers\n",
        "\n",
        "\" − \"\tSubtraction --------- Subtracts one number from another\n",
        "\n",
        "\" * \"\tMultiplication ------ Multiplies one number by another\n",
        "\n",
        "\" / \"\tDivision ------------ Divides one number by another and gives the result as a floating-point number\n",
        "\n",
        "\" // \"\tInteger division ---- Divides one number by another and gives the result as a whole number\n",
        "\n",
        "\" % \"\tRemainder ----------- Divides one number by another and gives the remainder\n",
        "\n",
        "\" ** \"\tExponent ------------ Raises a number to a power"
      ],
      "metadata": {
        "id": "rNmj28RLSoyN"
      }
    },
    {
      "cell_type": "code",
      "source": [
        "num1 = 8\n",
        "num2 = 3\n",
        "\n",
        "result_add = num1+num2\n",
        "result_sub = num1-num2\n",
        "result_mult = num1*num2\n",
        "\n",
        "# Note the order of operands\n",
        "result_float_division= num1/num2 # Divid 8 by 3 and get a floating-point number result\n",
        "result_integer_division = num1//num2 #Divid 8 by 3 and get a whole number result\n",
        "result_exp = num1**num2 # 8 raised to the power of 3\n",
        "result_rem = num1%num2  #find the remainder after dividing 8 by 3\n",
        "\n",
        "print('Addition ',result_add)\n",
        "print('Subtraction ',result_sub)\n",
        "print('Multiplication ',result_mult)\n",
        "print('Integer division ',result_integer_division)\n",
        "print('Division ',result_float_division)\n",
        "print('Exponent',result_exp)\n",
        "print('Remainder' ,result_rem)"
      ],
      "metadata": {
        "id": "Qh6aJkbUSsAw",
        "colab": {
          "base_uri": "https://localhost:8080/"
        },
        "outputId": "0f413c49-7bbb-491b-a8a4-cf4a125cbc32"
      },
      "execution_count": null,
      "outputs": [
        {
          "output_type": "stream",
          "name": "stdout",
          "text": [
            "Addition  11\n",
            "Subtraction  5\n",
            "Multiplication  24\n",
            "Integer division  2\n",
            "Division  2.6666666666666665\n",
            "Exponent 512\n",
            "Remainder 2\n"
          ]
        }
      ]
    },
    {
      "cell_type": "markdown",
      "metadata": {
        "id": "AV5YIUtl4MRi"
      },
      "source": [
        "# Operator Precedence and parantheses (BODMAS/PEMDAS)\n",
        "\n",
        "Mathematical expressions with multiple operations need to be solved from left to right in the order of BODMAS or PEMDAS.\n",
        "\n",
        "BODMAS\n",
        "\n",
        "*   B – Brackets, O – Order of powers or roots, D – Division,\n",
        "*   M – Multiplication, A – Addition, and S – Subtraction\n",
        "\n",
        "PEMDAS\n",
        "\n",
        "*   parentheses, exponents, multiplication, division, addition, subtraction\n",
        "\n",
        "\n",
        "\n"
      ]
    },
    {
      "cell_type": "markdown",
      "metadata": {
        "id": "EL-PBaKp4MRi"
      },
      "source": [
        "### Write a python program to calculate\n",
        "- average of 3 numbers\n",
        "- volume of a cone V=π*r^2*h/3"
      ]
    },
    {
      "cell_type": "code",
      "execution_count": null,
      "metadata": {
        "id": "N1wpCY_o4MRi",
        "outputId": "74322fa7-b767-48d4-a20b-a6c504ba0851",
        "colab": {
          "base_uri": "https://localhost:8080/"
        }
      },
      "outputs": [
        {
          "output_type": "execute_result",
          "data": {
            "text/plain": [
              "4.0"
            ]
          },
          "metadata": {},
          "execution_count": 4
        }
      ],
      "source": [
        "num1= 3\n",
        "num2= 4\n",
        "num3= 5\n",
        "\n",
        "     #TODO Calculate the average of num1, num2, and mun3.\n",
        "print(avg)"
      ]
    },
    {
      "cell_type": "code",
      "execution_count": null,
      "metadata": {
        "id": "7UjWjXO_4MRj",
        "outputId": "d356c018-c2ba-45f6-dd51-d6bdab1bef7a",
        "colab": {
          "base_uri": "https://localhost:8080/"
        }
      },
      "outputs": [
        {
          "output_type": "execute_result",
          "data": {
            "text/plain": [
              "1.0466666666666666"
            ]
          },
          "metadata": {},
          "execution_count": 5
        }
      ],
      "source": [
        "r = 1\n",
        "h = 1\n",
        "pi = 3.14\n",
        "     #TODO Calculate volume of a cone V=πr^2h/3.\n",
        "\n",
        "print(coneVol)"
      ]
    },
    {
      "cell_type": "markdown",
      "metadata": {
        "id": "uW1p1Ej44MRX"
      },
      "source": [
        "# Complete the following in-class exercises. Submit the notebook file."
      ]
    },
    {
      "cell_type": "markdown",
      "metadata": {
        "id": "0SZUU1vn4MRX"
      },
      "source": [
        "### Exer-1:\n",
        "\n",
        "Write a program to get user's street address, city, state, zipcode and then print the output in a format similar to below: <br>\n",
        "1 Bernard Baruch Way<br>\n",
        "New York, NY 10010\n"
      ]
    },
    {
      "cell_type": "code",
      "source": [
        "\n",
        "\n",
        "\n"
      ],
      "metadata": {
        "id": "BGoZbOUxWV3s",
        "colab": {
          "base_uri": "https://localhost:8080/"
        },
        "outputId": "a112913d-5393-4787-858e-606d295ea8b8"
      },
      "execution_count": null,
      "outputs": [
        {
          "output_type": "stream",
          "name": "stdout",
          "text": [
            "What is your street address? 1 Bernard Baruch Way\n",
            "What is your city? New York\n",
            "What is your state? NY\n",
            "What is your zipcode? 10010\n",
            "1 Bernard Baruch Way\n",
            "New York, NY 10010\n"
          ]
        }
      ]
    },
    {
      "cell_type": "markdown",
      "source": [
        "\n",
        "# Finish the remaining exercises."
      ],
      "metadata": {
        "id": "tLcaOfpSYBXb"
      }
    },
    {
      "cell_type": "markdown",
      "metadata": {
        "id": "XXLVpG094MRY"
      },
      "source": [
        "***********************"
      ]
    },
    {
      "cell_type": "code",
      "source": [],
      "metadata": {
        "id": "rdjo7DlXB4Bq"
      },
      "execution_count": null,
      "outputs": []
    },
    {
      "cell_type": "markdown",
      "metadata": {
        "id": "ivZeGhTc4MRj"
      },
      "source": [
        "### Exer-2:\n",
        "\n",
        "Write a program that asks user for their weight (in lbs) and height (in inches). Calculate and output their BMI. Formula for BMI: 703 * weight (lbs) / [height (in)]^2"
      ]
    },
    {
      "cell_type": "code",
      "source": [],
      "metadata": {
        "id": "YE00dbJdB3kS"
      },
      "execution_count": null,
      "outputs": []
    },
    {
      "cell_type": "markdown",
      "metadata": {
        "id": "7_hGFFJb4MRn"
      },
      "source": [
        "### Exer-3:\n",
        "1. Write a program to display days of weeks on separate lines using a single print statement\n",
        "*   prompt: \\n is character that will create a new line<br><br>\n",
        "\n",
        "\n",
        "\n",
        "2. Write a program to output following wage<br>\n",
        "   - Andrew $ 45,400.66 <br>\n"
      ]
    },
    {
      "cell_type": "code",
      "source": [],
      "metadata": {
        "id": "mBvT6yroB28s"
      },
      "execution_count": null,
      "outputs": []
    }
  ],
  "metadata": {
    "kernelspec": {
      "display_name": "Python 3",
      "language": "python",
      "name": "python3"
    },
    "language_info": {
      "codemirror_mode": {
        "name": "ipython",
        "version": 3
      },
      "file_extension": ".py",
      "mimetype": "text/x-python",
      "name": "python",
      "nbconvert_exporter": "python",
      "pygments_lexer": "ipython3",
      "version": "3.7.3"
    },
    "colab": {
      "provenance": []
    }
  },
  "nbformat": 4,
  "nbformat_minor": 0
}