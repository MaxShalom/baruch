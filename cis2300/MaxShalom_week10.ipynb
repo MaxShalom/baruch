{
  "metadata": {
    "kernelspec": {
      "name": "python",
      "display_name": "Python (Pyodide)",
      "language": "python"
    },
    "language_info": {
      "codemirror_mode": {
        "name": "python",
        "version": 3
      },
      "file_extension": ".py",
      "mimetype": "text/x-python",
      "name": "python",
      "nbconvert_exporter": "python",
      "pygments_lexer": "ipython3",
      "version": "3.8"
    }
  },
  "nbformat_minor": 4,
  "nbformat": 4,
  "cells": [
    {
      "cell_type": "markdown",
      "source": "# Question 1",
      "metadata": {}
    },
    {
      "cell_type": "code",
      "source": "first_name = str(input(\"Enter first name: \"))\nlast_name = str(input(\"Enter last name: \"))\n\ndef Name(first_name, last_name):\n    initials = first_name[0].upper() + '.' + last_name[0].upper() + '.'\n    name_in_address_book = first_name.capitalize() + ' ' + last_name.upper()-\n    username = first_name[0].lower() + last_name.lower()\n\n    return initials, name_in_address_book, username\n\ninitials, name_in_address_book, username = Name(first_name, last_name)\nprint(\"Initials:\", initials)\nprint(\"Name in address book:\", name_in_address_book)\nprint(\"Username:\", username)\n",
      "metadata": {
        "trusted": true
      },
      "outputs": [],
      "execution_count": null
    },
    {
      "cell_type": "markdown",
      "source": "# Question 2",
      "metadata": {}
    },
    {
      "cell_type": "code",
      "source": "def sum_single_digits(numbers):\n    total = 0\n    for digit in numbers:\n        if digit.isdigit() and int(digit) < 10:\n            total += int(digit)\n    return total\n\nuser_input = input(\"Enter a bunch of numbers with no separation: \")\nresult = sum_single_digits(user_input)\nprint(\"Sum of all individual numbers:\", result)\n",
      "metadata": {
        "trusted": true
      },
      "outputs": [],
      "execution_count": null
    },
    {
      "cell_type": "markdown",
      "source": "# Question 3",
      "metadata": {}
    },
    {
      "cell_type": "code",
      "source": "def Date(day):\n    date_parts = day.split('/')\n    month = date_parts[0]\n    day = date_parts[1]\n    year = date_parts[2]\n    print(f\"{month}-{day},{year}\")\n\nuser_input = input(\"Enter a date in mm/dd/yy form: \")\nDate(user_input)\n",
      "metadata": {
        "trusted": true
      },
      "outputs": [],
      "execution_count": null
    },
    {
      "cell_type": "markdown",
      "source": "# Question 4",
      "metadata": {}
    },
    {
      "cell_type": "code",
      "source": "def Pig_latin(Str):\n    words = Str.split()\n    modified_words = []\n    for word in words:\n        if len(word) > 1:\n            modified_word = word[1:] + word[0] + 'ay'\n        else:\n            modified_word = word\n        modified_words.append(modified_word)\n    return ' '.join(modified_words)\n\ninput_str = input(\"Enter a sentence: \")\noutput_str = Pig_latin(input_str)\nprint(\"Modified sentence:\", output_str)\n",
      "metadata": {
        "trusted": true
      },
      "outputs": [],
      "execution_count": null
    }
  ]
}